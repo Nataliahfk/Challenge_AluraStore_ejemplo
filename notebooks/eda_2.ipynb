{
 "cells": [
  {
   "cell_type": "markdown",
   "id": "cc1761f7",
   "metadata": {},
   "source": [
    "*Ingreso total por cada tienda*"
   ]
  },
  {
   "cell_type": "code",
   "execution_count": 1,
   "id": "d812a7fc",
   "metadata": {},
   "outputs": [
    {
     "name": "stdout",
     "output_type": "stream",
     "text": [
      "Defaulting to user installation because normal site-packages is not writeable\n",
      "Requirement already satisfied: pip in c:\\program files\\windowsapps\\pythonsoftwarefoundation.python.3.13_3.13.1008.0_x64__qbz5n2kfra8p0\\lib\\site-packages (25.0.1)\n",
      "Requirement already satisfied: plotly in c:\\users\\zaire\\appdata\\local\\packages\\pythonsoftwarefoundation.python.3.13_qbz5n2kfra8p0\\localcache\\local-packages\\python313\\site-packages (6.0.1)\n",
      "Requirement already satisfied: narwhals>=1.15.1 in c:\\users\\zaire\\appdata\\local\\packages\\pythonsoftwarefoundation.python.3.13_qbz5n2kfra8p0\\localcache\\local-packages\\python313\\site-packages (from plotly) (1.35.0)\n",
      "Requirement already satisfied: packaging in c:\\users\\zaire\\appdata\\local\\packages\\pythonsoftwarefoundation.python.3.13_qbz5n2kfra8p0\\localcache\\local-packages\\python313\\site-packages (from plotly) (24.2)\n",
      "Defaulting to user installation because normal site-packages is not writeable\n",
      "Requirement already satisfied: nbformat>=4.2.0 in c:\\users\\zaire\\appdata\\local\\packages\\pythonsoftwarefoundation.python.3.13_qbz5n2kfra8p0\\localcache\\local-packages\\python313\\site-packages (5.10.4)\n",
      "Requirement already satisfied: fastjsonschema>=2.15 in c:\\users\\zaire\\appdata\\local\\packages\\pythonsoftwarefoundation.python.3.13_qbz5n2kfra8p0\\localcache\\local-packages\\python313\\site-packages (from nbformat>=4.2.0) (2.21.1)\n",
      "Requirement already satisfied: jsonschema>=2.6 in c:\\users\\zaire\\appdata\\local\\packages\\pythonsoftwarefoundation.python.3.13_qbz5n2kfra8p0\\localcache\\local-packages\\python313\\site-packages (from nbformat>=4.2.0) (4.23.0)\n",
      "Requirement already satisfied: jupyter-core!=5.0.*,>=4.12 in c:\\users\\zaire\\appdata\\local\\packages\\pythonsoftwarefoundation.python.3.13_qbz5n2kfra8p0\\localcache\\local-packages\\python313\\site-packages (from nbformat>=4.2.0) (5.7.2)\n",
      "Requirement already satisfied: traitlets>=5.1 in c:\\users\\zaire\\appdata\\local\\packages\\pythonsoftwarefoundation.python.3.13_qbz5n2kfra8p0\\localcache\\local-packages\\python313\\site-packages (from nbformat>=4.2.0) (5.14.3)\n",
      "Requirement already satisfied: attrs>=22.2.0 in c:\\users\\zaire\\appdata\\local\\packages\\pythonsoftwarefoundation.python.3.13_qbz5n2kfra8p0\\localcache\\local-packages\\python313\\site-packages (from jsonschema>=2.6->nbformat>=4.2.0) (25.3.0)\n",
      "Requirement already satisfied: jsonschema-specifications>=2023.03.6 in c:\\users\\zaire\\appdata\\local\\packages\\pythonsoftwarefoundation.python.3.13_qbz5n2kfra8p0\\localcache\\local-packages\\python313\\site-packages (from jsonschema>=2.6->nbformat>=4.2.0) (2024.10.1)\n",
      "Requirement already satisfied: referencing>=0.28.4 in c:\\users\\zaire\\appdata\\local\\packages\\pythonsoftwarefoundation.python.3.13_qbz5n2kfra8p0\\localcache\\local-packages\\python313\\site-packages (from jsonschema>=2.6->nbformat>=4.2.0) (0.36.2)\n",
      "Requirement already satisfied: rpds-py>=0.7.1 in c:\\users\\zaire\\appdata\\local\\packages\\pythonsoftwarefoundation.python.3.13_qbz5n2kfra8p0\\localcache\\local-packages\\python313\\site-packages (from jsonschema>=2.6->nbformat>=4.2.0) (0.24.0)\n",
      "Requirement already satisfied: platformdirs>=2.5 in c:\\users\\zaire\\appdata\\local\\packages\\pythonsoftwarefoundation.python.3.13_qbz5n2kfra8p0\\localcache\\local-packages\\python313\\site-packages (from jupyter-core!=5.0.*,>=4.12->nbformat>=4.2.0) (4.3.7)\n",
      "Requirement already satisfied: pywin32>=300 in c:\\users\\zaire\\appdata\\local\\packages\\pythonsoftwarefoundation.python.3.13_qbz5n2kfra8p0\\localcache\\local-packages\\python313\\site-packages (from jupyter-core!=5.0.*,>=4.12->nbformat>=4.2.0) (310)\n"
     ]
    }
   ],
   "source": [
    "#Extraer y cargar datos de archivos CSV en un diccionario de pandas DataFrames\n",
    "\n",
    "\n",
    "import pandas as pd\n",
    "import numpy as np\n",
    "import matplotlib.pyplot as plt #Librería para crear gráficos y visualizaciones en Python\n",
    "import matplotlib.dates as mdates #Módulo de matplotlib para trabajar con fechas y tiempos en gráficos\n",
    "import matplotlib.ticker as ticker #Módulo de matplotlib para formatear los ejes de los gráficos\n",
    "import matplotlib.colors as mcolors #Módulo de matplotlib para trabajar con colores y mapas de colores\n",
    "import matplotlib.cm as cm #Módulo de matplotlib para trabajar con mapas de colores\n",
    "import seaborn as sns #Librería para crear gráficos estadísticos atractivos y informativos en Python\n",
    "import plotly.express as px\n",
    "import sys\n",
    "!{sys.executable} -m pip install --upgrade pip plotly\n",
    "import plotly.graph_objects as go\n",
    "import sys\n",
    "!{sys.executable} -m pip install --upgrade \"nbformat>=4.2.0\"\n",
    "\n",
    "\n",
    "from pathlib import Path #Libreria para manejar rutas de archivos y directorios de forma orientada a objetos y multiplataforma\n",
    "\n",
    "DATA_DIR = Path(\"../data\") #Directorio de datos, Path crea un objeto de ruta a partir de una cadena de texto, en este caso \"../data\" que está un nivel por encima del directorio actual\n",
    "\n",
    "tiendas = {} #Diccionario para almacenar los dataframes de cada tienda\n",
    "for csv_file in DATA_DIR.glob(\"tienda_*.csv\"): #Itera sobre todos los archivos CSV que comienzan con \"tienda_\" en el directorio de datos\n",
    "    tiendas[csv_file.stem] = pd.read_csv(csv_file) #csv_file.stem extrae el nombre del archivo sin la extensión.csv y lo usa como clave en el diccionario, pd.read_csv(csv_file) lee el archivo CSV y lo almacena como un dataframe de pandas\n",
    "\n",
    "tienda_1 = tiendas[\"tienda_1\"]\n",
    "tienda_2 = tiendas[\"tienda_2\"]\n",
    "tienda_3 = tiendas[\"tienda_3\"]\n",
    "tienda_4 = tiendas[\"tienda_4\"]\n",
    "\n",
    "\n",
    "\n",
    "\n",
    "\n"
   ]
  },
  {
   "cell_type": "code",
   "execution_count": 2,
   "id": "a8319739",
   "metadata": {},
   "outputs": [
    {
     "name": "stdout",
     "output_type": "stream",
     "text": [
      "Python que corre este código: C:\\Users\\zaire\\AppData\\Local\\Microsoft\\WindowsApps\\PythonSoftwareFoundation.Python.3.13_qbz5n2kfra8p0\\python.exe\n",
      "Versión de Plotly: 6.0.1\n"
     ]
    }
   ],
   "source": [
    "import sys\n",
    "print(\"Python que corre este código:\", sys.executable)\n",
    "\n",
    "import plotly\n",
    "print(\"Versión de Plotly:\", plotly.__version__)\n"
   ]
  },
  {
   "cell_type": "code",
   "execution_count": 3,
   "id": "bc0976cd",
   "metadata": {},
   "outputs": [
    {
     "data": {
      "text/html": [
       "<div>\n",
       "<style scoped>\n",
       "    .dataframe tbody tr th:only-of-type {\n",
       "        vertical-align: middle;\n",
       "    }\n",
       "\n",
       "    .dataframe tbody tr th {\n",
       "        vertical-align: top;\n",
       "    }\n",
       "\n",
       "    .dataframe thead th {\n",
       "        text-align: right;\n",
       "    }\n",
       "</style>\n",
       "<table border=\"1\" class=\"dataframe\">\n",
       "  <thead>\n",
       "    <tr style=\"text-align: right;\">\n",
       "      <th></th>\n",
       "      <th>Producto</th>\n",
       "      <th>Categoría del Producto</th>\n",
       "      <th>Precio</th>\n",
       "      <th>Costo de envío</th>\n",
       "      <th>Fecha de Compra</th>\n",
       "      <th>Vendedor</th>\n",
       "      <th>Lugar de Compra</th>\n",
       "      <th>Calificación</th>\n",
       "      <th>Método de pago</th>\n",
       "      <th>Cantidad de cuotas</th>\n",
       "      <th>lat</th>\n",
       "      <th>lon</th>\n",
       "    </tr>\n",
       "  </thead>\n",
       "  <tbody>\n",
       "    <tr>\n",
       "      <th>0</th>\n",
       "      <td>Asistente virtual</td>\n",
       "      <td>Electrónicos</td>\n",
       "      <td>164300.0</td>\n",
       "      <td>6900.0</td>\n",
       "      <td>16/01/2021</td>\n",
       "      <td>Pedro Gomez</td>\n",
       "      <td>Bogotá</td>\n",
       "      <td>4</td>\n",
       "      <td>Tarjeta de crédito</td>\n",
       "      <td>8</td>\n",
       "      <td>4.60971</td>\n",
       "      <td>-74.08175</td>\n",
       "    </tr>\n",
       "    <tr>\n",
       "      <th>1</th>\n",
       "      <td>Mesa de comedor</td>\n",
       "      <td>Muebles</td>\n",
       "      <td>192300.0</td>\n",
       "      <td>8400.0</td>\n",
       "      <td>18/05/2022</td>\n",
       "      <td>Beatriz Morales</td>\n",
       "      <td>Medellín</td>\n",
       "      <td>1</td>\n",
       "      <td>Tarjeta de crédito</td>\n",
       "      <td>4</td>\n",
       "      <td>6.25184</td>\n",
       "      <td>-75.56359</td>\n",
       "    </tr>\n",
       "    <tr>\n",
       "      <th>2</th>\n",
       "      <td>Juego de mesa</td>\n",
       "      <td>Juguetes</td>\n",
       "      <td>209600.0</td>\n",
       "      <td>15900.0</td>\n",
       "      <td>15/03/2021</td>\n",
       "      <td>Juan Fernandez</td>\n",
       "      <td>Cartagena</td>\n",
       "      <td>1</td>\n",
       "      <td>Tarjeta de crédito</td>\n",
       "      <td>1</td>\n",
       "      <td>10.39972</td>\n",
       "      <td>-75.51444</td>\n",
       "    </tr>\n",
       "    <tr>\n",
       "      <th>3</th>\n",
       "      <td>Microondas</td>\n",
       "      <td>Electrodomésticos</td>\n",
       "      <td>757500.0</td>\n",
       "      <td>41000.0</td>\n",
       "      <td>03/05/2022</td>\n",
       "      <td>Juan Fernandez</td>\n",
       "      <td>Cali</td>\n",
       "      <td>4</td>\n",
       "      <td>Nequi</td>\n",
       "      <td>1</td>\n",
       "      <td>3.43722</td>\n",
       "      <td>-76.52250</td>\n",
       "    </tr>\n",
       "    <tr>\n",
       "      <th>4</th>\n",
       "      <td>Silla de oficina</td>\n",
       "      <td>Muebles</td>\n",
       "      <td>335200.0</td>\n",
       "      <td>20200.0</td>\n",
       "      <td>07/11/2020</td>\n",
       "      <td>Maria Alfonso</td>\n",
       "      <td>Medellín</td>\n",
       "      <td>5</td>\n",
       "      <td>Nequi</td>\n",
       "      <td>1</td>\n",
       "      <td>6.25184</td>\n",
       "      <td>-75.56359</td>\n",
       "    </tr>\n",
       "  </tbody>\n",
       "</table>\n",
       "</div>"
      ],
      "text/plain": [
       "            Producto Categoría del Producto    Precio  Costo de envío  \\\n",
       "0  Asistente virtual           Electrónicos  164300.0          6900.0   \n",
       "1    Mesa de comedor                Muebles  192300.0          8400.0   \n",
       "2      Juego de mesa               Juguetes  209600.0         15900.0   \n",
       "3         Microondas      Electrodomésticos  757500.0         41000.0   \n",
       "4   Silla de oficina                Muebles  335200.0         20200.0   \n",
       "\n",
       "  Fecha de Compra         Vendedor Lugar de Compra  Calificación  \\\n",
       "0      16/01/2021      Pedro Gomez          Bogotá             4   \n",
       "1      18/05/2022  Beatriz Morales        Medellín             1   \n",
       "2      15/03/2021   Juan Fernandez       Cartagena             1   \n",
       "3      03/05/2022   Juan Fernandez            Cali             4   \n",
       "4      07/11/2020    Maria Alfonso        Medellín             5   \n",
       "\n",
       "       Método de pago  Cantidad de cuotas       lat       lon  \n",
       "0  Tarjeta de crédito                   8   4.60971 -74.08175  \n",
       "1  Tarjeta de crédito                   4   6.25184 -75.56359  \n",
       "2  Tarjeta de crédito                   1  10.39972 -75.51444  \n",
       "3               Nequi                   1   3.43722 -76.52250  \n",
       "4               Nequi                   1   6.25184 -75.56359  "
      ]
     },
     "execution_count": 3,
     "metadata": {},
     "output_type": "execute_result"
    }
   ],
   "source": [
    "tienda_1.head() #Muestra las primeras filas del dataframe de la tienda 1"
   ]
  },
  {
   "cell_type": "code",
   "execution_count": 4,
   "id": "a5624519",
   "metadata": {},
   "outputs": [
    {
     "name": "stdout",
     "output_type": "stream",
     "text": [
      "2023-03-31\n",
      "2020-01-01\n",
      "2023-03-31\n",
      "2020-01-01\n",
      "2023-03-31\n",
      "2020-01-01\n",
      "2023-03-30\n",
      "2020-01-01\n"
     ]
    }
   ],
   "source": [
    "def transform_data_time (df): #Función para transformar la columna 'Fecha de Compra' a un objeto datetime\n",
    "    df['Fecha de Compra'] = pd.to_datetime(df['Fecha de Compra'], format='%d/%m/%Y') #Convierte la columna 'Fecha de Compra' a un objeto datetime de pandas, especificando el formato de la fecha\n",
    "    df['Fecha de Compra'] = df['Fecha de Compra'].dt.date #Extrae solo la parte de la fecha (sin hora) y la convierte a un objeto de tipo date\n",
    "    return df\n",
    "transform_data_time (tienda_1) \n",
    "transform_data_time (tienda_2) \n",
    "transform_data_time (tienda_3) \n",
    "transform_data_time (tienda_4) \n",
    "print (tienda_1['Fecha de Compra'].max()) \n",
    "print (tienda_1['Fecha de Compra'].min())     \n",
    "print (tienda_2['Fecha de Compra'].max()) \n",
    "print (tienda_2['Fecha de Compra'].min()) \n",
    "print (tienda_3['Fecha de Compra'].max()) \n",
    "print (tienda_3['Fecha de Compra'].min()) \n",
    "print (tienda_4['Fecha de Compra'].max()) \n",
    "print (tienda_4['Fecha de Compra'].min()) \n",
    "#tienda_1['Fecha de Compra'] = tienda_1['Fecha de Compra'].astype(str) #Convierte la columna 'Fecha de Compra' a tipo string\n",
    "\n",
    "#tienda_1['Fecha de Compra'] = pd.to_datetime(tienda_1['Fecha de Compra'], format='%d/%m/%Y') #Convierte la columna 'Fecha de Compra' a un objeto datetime de pandas, especificando el formato de la fecha\n",
    "#tienda_1['Fecha de Compra'] = tienda_1['Fecha de Compra'].dt.date \n",
    "#Extrae solo la parte de la fecha (sin hora) y la convierte a un objeto de tipo date\n"
   ]
  },
  {
   "cell_type": "code",
   "execution_count": null,
   "id": "6b489f60",
   "metadata": {},
   "outputs": [],
   "source": []
  },
  {
   "cell_type": "markdown",
   "id": "55026cf9",
   "metadata": {},
   "source": [
    "1. #Ingresos totales por tienda"
   ]
  },
  {
   "cell_type": "code",
   "execution_count": 5,
   "id": "6e59efd6",
   "metadata": {},
   "outputs": [
    {
     "name": "stdout",
     "output_type": "stream",
     "text": [
      "Los ingresos totales de la Tienda 1 del 2020-01-31 al 2023-03-31 son de  $1150880400.00\n",
      "Los ingresos totales de la Tienda 2 del 2020-01-31 al 2023-03-31 son de  $1116343500.00\n",
      "Los ingresos totales de la Tienda 3 del 2020-01-31 al 2023-03-31 son de  $1098019600.00\n",
      "Los ingresos totales de la Tienda 4 del 2020-01-31 al 2023-03-31 son de  $1038375700.00\n"
     ]
    }
   ],
   "source": [
    "#Función para calcular los Ingresos totales por tienda\n",
    "def ingresos_totales(df, nombre_tienda): #df es el dataframe de la tienda y nombre_tienda es el nombre de la tienda \n",
    "    ingresos = df['Precio'].sum() #Suma la columna 'Precio' del dataframe df\n",
    "\n",
    "    print (f'Los ingresos totales de la {nombre_tienda} del 2020-01-31 al 2023-03-31 son de  ${ingresos:.2f}')\n",
    "    return ingresos #Devuelve los ingresos totales\n",
    "ingresos_t1 = ingresos_totales(tienda_1, \"Tienda 1\")\n",
    "ingresos_t2 = ingresos_totales(tienda_2, \"Tienda 2\")\n",
    "ingresos_t3 = ingresos_totales(tienda_3, \"Tienda 3\")\n",
    "ingresos_t4 = ingresos_totales(tienda_4, \"Tienda 4\")\n",
    "\n",
    "\n",
    "\n"
   ]
  },
  {
   "cell_type": "markdown",
   "id": "2d6aeac5",
   "metadata": {},
   "source": []
  },
  {
   "cell_type": "code",
   "execution_count": 6,
   "id": "980b6347",
   "metadata": {},
   "outputs": [
    {
     "data": {
      "image/png": "[encoded data removed]",
      "text/plain": [
       "<Figure size 1000x600 with 1 Axes>"
      ]
     },
     "metadata": {},
     "output_type": "display_data"
    }
   ],
   "source": [
    "#Graficar los ingresos totales de cada tienda en un solo gráfico en el eje x son los ingresos y el el eje y es el nombre de la tienda\n",
    "tiendas = ['Tienda 1', 'Tienda 2', 'Tienda 3', 'Tienda 4'] #Lista con los nombres de las tiendas\n",
    "ingresos = [ingresos_t1, ingresos_t2, ingresos_t3, ingresos_t4] #Lista con los ingresos totales de cada tienda\n",
    "palette = sns.color_palette(\"tab10\") #Paleta de colores pastel de seaborn\n",
    "plt.figure(figsize=(10, 6)) #Crea una figura de tamaño 10x6 pulgadas\n",
    "bars =plt.bar (tiendas, ingresos, color=palette, edgecolor ='black', linewidth=1) #Crea un gráfico de barras con los nombres de las tiendas en el eje x y los ingresos totales en el eje y\n",
    "for bar in bars:\n",
    "    altura = bar.get_height() #Obtiene la altura de cada barra\n",
    "    plt.text(bar.get_x() + bar.get_width()/2, altura +max(ingresos)*0.01, f'${altura:,.0f}', ha='center', va='bottom', fontsize=10) #Añade el valor de los ingresos totales encima de cada barra\n",
    "    \n",
    "plt.xlabel('Tiendas', fontsize=12) #Etiqueta del eje x\n",
    "plt.ylabel('Ingresos totales', fontsize=12) #Etiqueta del eje y\n",
    "plt.title('Ingresos totales por tienda (2020-2023)', fontsize=14, weight='bold') #Título del gráfico\n",
    "plt.grid(axis='y', linestyle='--', alpha=0.5) #Añade una cuadrícula en el eje y con líneas discontinuas\n",
    "sns.despine(left=True, bottom=True) #Elimina los bordes del gráfico\n",
    "plt.tight_layout() #Ajusta el diseño del gráfico para que no se superpongan los elementos\n",
    "plt.show() #Muestra el gráfico\n",
    "\n",
    "\n"
   ]
  },
  {
   "cell_type": "markdown",
   "id": "f528e940",
   "metadata": {},
   "source": [
    "2. #Ventas por categorías"
   ]
  },
  {
   "cell_type": "code",
   "execution_count": 7,
   "id": "037216c7",
   "metadata": {},
   "outputs": [
    {
     "data": {
      "text/plain": [
       "Index(['Producto', 'Categoría del Producto', 'Precio', 'Costo de envío',\n",
       "       'Fecha de Compra', 'Vendedor', 'Lugar de Compra', 'Calificación',\n",
       "       'Método de pago', 'Cantidad de cuotas', 'lat', 'lon'],\n",
       "      dtype='object')"
      ]
     },
     "execution_count": 7,
     "metadata": {},
     "output_type": "execute_result"
    }
   ],
   "source": [
    "tienda_1.columns"
   ]
  },
  {
   "cell_type": "code",
   "execution_count": 8,
   "id": "3c5a3c04",
   "metadata": {},
   "outputs": [
    {
     "name": "stdout",
     "output_type": "stream",
     "text": [
      "Las ventas totales de la Tienda 1 por categoría son:\n",
      "                         Productos_vendidos        Total\n",
      "Categoría del Producto                                  \n",
      "Muebles                                 465  187633700.0\n",
      "Electrónicos                            448  429493500.0\n",
      "Juguetes                                324   17995700.0\n",
      "Electrodomésticos                       312  363685200.0\n",
      "Deportes y diversión                    284   39290000.0\n",
      "Instrumentos musicales                  182   91299000.0\n",
      "Libros                                  173    8784900.0\n",
      "Artículos para el hogar                 171   12698400.0\n"
     ]
    }
   ],
   "source": [
    "def ingresos_categoria(df, nombre_tienda): #Función para calcular los Ingresos totales por categoría\n",
    "    ingresos_categoria = df.groupby('Categoría del Producto').agg(Productos_vendidos=('Producto', 'count'), Total=('Precio', 'sum')).sort_values(by='Productos_vendidos', ascending=False)\n",
    "\n",
    "    #Agrupa el dataframe por la columna 'Categoría de producto', suma los precios y ordena los resultados de mayor a menor\n",
    "    print (f'Las ventas totales de la {nombre_tienda} por categoría son:\\n{ingresos_categoria}')\n",
    "    return ingresos_categoria #Devuelve los ingresos totales por categoría\n",
    "ingresos_categoria_t1 = ingresos_categoria(tienda_1, \"Tienda 1\")\n"
   ]
  },
  {
   "cell_type": "code",
   "execution_count": 9,
   "id": "9cfc2de6",
   "metadata": {},
   "outputs": [
    {
     "name": "stdout",
     "output_type": "stream",
     "text": [
      "Las ventas totales de la Tienda 2 por categoría son:\n",
      "                         Productos_vendidos        Total\n",
      "Categoría del Producto                                  \n",
      "Muebles                                 442  176426300.0\n",
      "Electrónicos                            422  410831100.0\n",
      "Juguetes                                313   15945400.0\n",
      "Electrodomésticos                       305  348567800.0\n",
      "Deportes y diversión                    275   34744500.0\n",
      "Instrumentos musicales                  224  104990300.0\n",
      "Libros                                  197   10091200.0\n",
      "Artículos para el hogar                 181   14746900.0\n"
     ]
    }
   ],
   "source": [
    "ingresos_categoria_t2 = ingresos_categoria(tienda_2, \"Tienda 2\")"
   ]
  },
  {
   "cell_type": "code",
   "execution_count": 10,
   "id": "e7ed59b3",
   "metadata": {},
   "outputs": [
    {
     "name": "stdout",
     "output_type": "stream",
     "text": [
      "Las ventas totales de la Tienda 3 por categoría son:\n",
      "                         Productos_vendidos        Total\n",
      "Categoría del Producto                                  \n",
      "Muebles                                 499  201072100.0\n",
      "Electrónicos                            451  410775800.0\n",
      "Juguetes                                315   19401100.0\n",
      "Electrodomésticos                       278  329237900.0\n",
      "Deportes y diversión                    277   35593100.0\n",
      "Libros                                  185    9498700.0\n",
      "Artículos para el hogar                 177   15060000.0\n",
      "Instrumentos musicales                  177   77380900.0\n"
     ]
    }
   ],
   "source": [
    "ingresos_categoria_t3 = ingresos_categoria(tienda_3, \"Tienda 3\")"
   ]
  },
  {
   "cell_type": "code",
   "execution_count": 11,
   "id": "a4754d9a",
   "metadata": {},
   "outputs": [
    {
     "name": "stdout",
     "output_type": "stream",
     "text": [
      "Las ventas totales de la Tienda 4 por categoría son:\n",
      "                         Productos_vendidos        Total\n",
      "Categoría del Producto                                  \n",
      "Muebles                                 480  192528900.0\n",
      "Electrónicos                            451  409476100.0\n",
      "Juguetes                                338   20262200.0\n",
      "Deportes y diversión                    277   33350100.0\n",
      "Electrodomésticos                       254  283260200.0\n",
      "Artículos para el hogar                 201   15074500.0\n",
      "Libros                                  187    9321300.0\n",
      "Instrumentos musicales                  170   75102400.0\n"
     ]
    }
   ],
   "source": [
    "ingresos_categoria_t4 = ingresos_categoria(tienda_4, \"Tienda 4\")"
   ]
  },
  {
   "cell_type": "code",
   "execution_count": 12,
   "id": "de800961",
   "metadata": {},
   "outputs": [
    {
     "data": {
      "text/html": [
       "<div>\n",
       "<style scoped>\n",
       "    .dataframe tbody tr th:only-of-type {\n",
       "        vertical-align: middle;\n",
       "    }\n",
       "\n",
       "    .dataframe tbody tr th {\n",
       "        vertical-align: top;\n",
       "    }\n",
       "\n",
       "    .dataframe thead th {\n",
       "        text-align: right;\n",
       "    }\n",
       "</style>\n",
       "<table border=\"1\" class=\"dataframe\">\n",
       "  <thead>\n",
       "    <tr style=\"text-align: right;\">\n",
       "      <th></th>\n",
       "      <th>Tienda 1</th>\n",
       "      <th>Tienda 2</th>\n",
       "      <th>Tienda 3</th>\n",
       "      <th>Tienda 4</th>\n",
       "    </tr>\n",
       "    <tr>\n",
       "      <th>Categoría del Producto</th>\n",
       "      <th></th>\n",
       "      <th></th>\n",
       "      <th></th>\n",
       "      <th></th>\n",
       "    </tr>\n",
       "  </thead>\n",
       "  <tbody>\n",
       "    <tr>\n",
       "      <th>Muebles</th>\n",
       "      <td>465</td>\n",
       "      <td>442</td>\n",
       "      <td>499</td>\n",
       "      <td>480</td>\n",
       "    </tr>\n",
       "    <tr>\n",
       "      <th>Electrónicos</th>\n",
       "      <td>448</td>\n",
       "      <td>422</td>\n",
       "      <td>451</td>\n",
       "      <td>451</td>\n",
       "    </tr>\n",
       "    <tr>\n",
       "      <th>Juguetes</th>\n",
       "      <td>324</td>\n",
       "      <td>313</td>\n",
       "      <td>315</td>\n",
       "      <td>338</td>\n",
       "    </tr>\n",
       "    <tr>\n",
       "      <th>Electrodomésticos</th>\n",
       "      <td>312</td>\n",
       "      <td>305</td>\n",
       "      <td>278</td>\n",
       "      <td>254</td>\n",
       "    </tr>\n",
       "    <tr>\n",
       "      <th>Deportes y diversión</th>\n",
       "      <td>284</td>\n",
       "      <td>275</td>\n",
       "      <td>277</td>\n",
       "      <td>277</td>\n",
       "    </tr>\n",
       "    <tr>\n",
       "      <th>Instrumentos musicales</th>\n",
       "      <td>182</td>\n",
       "      <td>224</td>\n",
       "      <td>177</td>\n",
       "      <td>170</td>\n",
       "    </tr>\n",
       "    <tr>\n",
       "      <th>Libros</th>\n",
       "      <td>173</td>\n",
       "      <td>197</td>\n",
       "      <td>185</td>\n",
       "      <td>187</td>\n",
       "    </tr>\n",
       "    <tr>\n",
       "      <th>Artículos para el hogar</th>\n",
       "      <td>171</td>\n",
       "      <td>181</td>\n",
       "      <td>177</td>\n",
       "      <td>201</td>\n",
       "    </tr>\n",
       "  </tbody>\n",
       "</table>\n",
       "</div>"
      ],
      "text/plain": [
       "                         Tienda 1  Tienda 2  Tienda 3  Tienda 4\n",
       "Categoría del Producto                                         \n",
       "Muebles                       465       442       499       480\n",
       "Electrónicos                  448       422       451       451\n",
       "Juguetes                      324       313       315       338\n",
       "Electrodomésticos             312       305       278       254\n",
       "Deportes y diversión          284       275       277       277\n",
       "Instrumentos musicales        182       224       177       170\n",
       "Libros                        173       197       185       187\n",
       "Artículos para el hogar       171       181       177       201"
      ]
     },
     "execution_count": 12,
     "metadata": {},
     "output_type": "execute_result"
    }
   ],
   "source": [
    "#Cancatenación de df para la visualización\n",
    "pv1 = ingresos_categoria_t1[['Productos_vendidos']].rename(columns={'Productos_vendidos': 'Tienda 1'})\n",
    "pv2 = ingresos_categoria_t2[['Productos_vendidos']].rename(columns={'Productos_vendidos': 'Tienda 2'})\n",
    "pv3 = ingresos_categoria_t3[['Productos_vendidos']].rename(columns={'Productos_vendidos': 'Tienda 3'})\n",
    "pv4 = ingresos_categoria_t4[['Productos_vendidos']].rename(columns={'Productos_vendidos': 'Tienda 4'})\n",
    "df_vendidos_categoria_tiendas = pd.concat([pv1, pv2, pv3, pv4], axis=1) #Concatena los dataframes por columnas (axis=1)\n",
    "df_vendidos_categoria_tiendas"
   ]
  },
  {
   "cell_type": "code",
   "execution_count": 13,
   "id": "24774f31",
   "metadata": {},
   "outputs": [
    {
     "data": {
      "image/png": "[encoded data removed]",
      "text/plain": [
       "<Figure size 1000x600 with 1 Axes>"
      ]
     },
     "metadata": {},
     "output_type": "display_data"
    }
   ],
   "source": [
    "#Extraer la lista de categorías (indice del df)\n",
    "categorias = df_vendidos_categoria_tiendas.index.tolist() #Convierte el índice del dataframe en una lista\n",
    "\n",
    "#Extraer el nombre de tiendas (columnas del df) y su valores numéricos\n",
    "tiendas = df_vendidos_categoria_tiendas.columns.tolist() #Convierte las columnas del dataframe en una lista\n",
    "#Pra cada tienda, obtenemos un array con los productos vendidos por categoría\n",
    "datos = [df_vendidos_categoria_tiendas[tienda].values for tienda in tiendas] #Extrae los valores de cada columna (tienda) y los almacena en una lista\n",
    "\n",
    "#Creamos la figura y el eje\n",
    "fig, ax = plt.subplots(figsize=(10, 6)) #Crea una figura y un eje para el gráfico\n",
    "\n",
    "#Definimos posiciones y grosor de las barras\n",
    "y = np.arange(len(categorias)) # posiciones en el eje y: 0,1,2,... según nº de categorías\n",
    "height = 0.6 #Grosor de las barras\n",
    "\n",
    "#Inicializar el array de ceros como \"offset\" (left) para apilar las barras\n",
    "left = np.zeros(len(categorias)) \n",
    "\n",
    "#Recorremos tienda por tienda apilando sus valores\n",
    "for tienda, valores in zip(tiendas, datos):\n",
    "    # Dibujamos una porción de barra horizontal:\n",
    "    #      - y: coordenadas verticales de cada barra\n",
    "    #      - valores: longitud de cada segmento\n",
    "    #      - height: grosor\n",
    "    #      - left: desplazamiento inicial para apilar encima del anterior\n",
    "    barras = ax.barh(y, valores, height, left=left, label=tienda)\n",
    "# Actualizamos 'left' sumando los valores de esta tienda,\n",
    "    #de modo que el siguiente segmento empiece justo donde acaba éste\n",
    "    left += valores\n",
    "# Añadimos etiquetas a las barras\n",
    "ax.set_yticks(y) #Establece las posiciones de las etiquetas en el eje y\n",
    "ax.set_yticklabels(categorias) #Establece las etiquetas del eje y con la lista de categorías\n",
    "\n",
    "#Titulos y etiquetas del eje x e y\n",
    "ax.set_xlabel('Productos vendidos') #Etiqueta del eje x\n",
    "ax.set_ylabel('Categorías') #Etiqueta del eje y\n",
    "ax.set_title('Productos vendidos por categoría y tienda', fontsize=14, weight='bold') #Título del gráfico\n",
    "ax.legend(title='Tiendas') #Añade una leyenda con el título 'Tiendas'\n",
    "ax.grid(axis='x', linestyle='--', alpha=0.5) #Añade una cuadrícula en el eje x con líneas discontinuas\n",
    "plt.tight_layout() #Ajusta el diseño del gráfico para que no se superpongan los elementos\n",
    "plt.show() #Muestra el gráfico"
   ]
  },
  {
   "cell_type": "markdown",
   "id": "feeea50b",
   "metadata": {},
   "source": [
    "3. #Comentarios y calificaciones"
   ]
  },
  {
   "cell_type": "code",
   "execution_count": 14,
   "id": "519676a9",
   "metadata": {},
   "outputs": [
    {
     "data": {
      "text/plain": [
       "Index(['Producto', 'Categoría del Producto', 'Precio', 'Costo de envío',\n",
       "       'Fecha de Compra', 'Vendedor', 'Lugar de Compra', 'Calificación',\n",
       "       'Método de pago', 'Cantidad de cuotas', 'lat', 'lon'],\n",
       "      dtype='object')"
      ]
     },
     "execution_count": 14,
     "metadata": {},
     "output_type": "execute_result"
    }
   ],
   "source": [
    "tienda_1.columns\n"
   ]
  },
  {
   "cell_type": "code",
   "execution_count": 15,
   "id": "2bf2125b",
   "metadata": {},
   "outputs": [
    {
     "data": {
      "text/plain": [
       "Producto\n",
       "Batería                        36\n",
       "Bloques de construcción        34\n",
       "TV LED UHD 4K                  34\n",
       "Microondas                     33\n",
       "Secadora de ropa               33\n",
       "Cubertería                     32\n",
       "Armario                        32\n",
       "Impresora                      31\n",
       "Ajedrez de madera              31\n",
       "Refrigerador                   31\n",
       "Mesa de noche                  30\n",
       "Guitarra eléctrica             30\n",
       "Guitarra acústica              29\n",
       "Carrito de control remoto      29\n",
       "Lavavajillas                   29\n",
       "Iniciando en programación      28\n",
       "Bicicleta                      28\n",
       "Balón de baloncesto            27\n",
       "Mesa de centro                 27\n",
       "Smartwatch                     26\n",
       "Vaso térmico                   26\n",
       "Balón de voleibol              26\n",
       "Estufa                         26\n",
       "Juego de mesa                  25\n",
       "Smart TV                       25\n",
       "Iphone 15                      25\n",
       "Cama box                       25\n",
       "Auriculares                    25\n",
       "Asistente virtual              25\n",
       "Sofá reclinable                25\n",
       "Lavadora de ropa               25\n",
       "Kit de bancas                  25\n",
       "Dashboards con Power BI        24\n",
       "Ciencia de datos con Python    23\n",
       "Cubo mágico 8x8                23\n",
       "Muñeca bebé                    22\n",
       "Modelado predictivo            21\n",
       "Mochila                        21\n",
       "Silla de oficina               21\n",
       "Tablet ABXY                    21\n",
       "Mesa de comedor                20\n",
       "Cama king                      20\n",
       "Auriculares con micrófono      20\n",
       "Sillón                         20\n",
       "Pandereta                      20\n",
       "Set de vasos                   19\n",
       "Set de ollas                   19\n",
       "Dinosaurio Rex                 18\n",
       "Cuerda para saltar             17\n",
       "Celular ABXY                   15\n",
       "Name: Calificación, dtype: int64"
      ]
     },
     "execution_count": 15,
     "metadata": {},
     "output_type": "execute_result"
    }
   ],
   "source": [
    "\n",
    "#Contar los productos con más de 4 estrellas\n",
    "tienda_1[tienda_1['Calificación'] > 4].groupby('Producto')['Calificación'].count().sort_values(ascending=False).head(50) #Agrupa el dataframe por la columna 'Producto', cuenta los productos con más de 4 estrellas y ordena los resultados de mayor a menor, muestra los 10 primeros"
   ]
  },
  {
   "cell_type": "code",
   "execution_count": 16,
   "id": "c57363ec",
   "metadata": {},
   "outputs": [
    {
     "name": "stdout",
     "output_type": "stream",
     "text": [
      "La calificación promedio de los productos en la Tienda 1 es:\n",
      "3.98\n",
      "La calificación promedio de los productos en la Tienda 2 es:\n",
      "4.04\n",
      "La calificación promedio de los productos en la Tienda 3 es:\n",
      "4.05\n",
      "La calificación promedio de los productos en la Tienda 4 es:\n",
      "4.00\n"
     ]
    }
   ],
   "source": [
    "def promedio_calificacion(df, nombre_tienda): #Función para calcular la calificación promedio total  por tienda y por todoas lo productos\n",
    "   \n",
    "    \n",
    "    promedio = df['Calificación'].mean() #Agrupa el dataframe por la columna 'Producto', calcula la calificación promedio y ordena los resultados de mayor a menor\n",
    "    \n",
    "    print (f'La calificación promedio de los productos en la {nombre_tienda} es:\\n{promedio:.2f}')\n",
    "    return promedio #Devuelve la calificación promedio\n",
    "promedio_t1 = promedio_calificacion(tienda_1, \"Tienda 1\")\n",
    "promedio_t2 = promedio_calificacion(tienda_2, \"Tienda 2\")\n",
    "promedio_t3 = promedio_calificacion(tienda_3, \"Tienda 3\")\n",
    "promedio_t4 = promedio_calificacion(tienda_4, \"Tienda 4\")    "
   ]
  },
  {
   "cell_type": "code",
   "execution_count": 17,
   "id": "c6ff9c24",
   "metadata": {},
   "outputs": [
    {
     "name": "stdout",
     "output_type": "stream",
     "text": [
      "Los productos más vendidos en la Tienda 1 son:\n",
      "                                        producto  Ventas\n",
      "Producto                                                \n",
      "Armario                                  Armario      60\n",
      "TV LED UHD 4K                      TV LED UHD 4K      60\n",
      "Microondas                            Microondas      60\n",
      "Secadora de ropa                Secadora de ropa      58\n",
      "Mesa de noche                      Mesa de noche      56\n",
      "Bloques de construcción  Bloques de construcción      56\n",
      "Balón de baloncesto          Balón de baloncesto      55\n",
      "Bicicleta                              Bicicleta      54\n",
      "Impresora                              Impresora      54\n",
      "Vaso térmico                        Vaso térmico      54\n",
      "Los productos menos vendidos en la Tienda 1 son:\n",
      "                                                producto  Ventas\n",
      "Producto                                                        \n",
      "Auriculares con micrófono      Auriculares con micrófono      33\n",
      "Celular ABXY                                Celular ABXY      33\n",
      "Olla de presión                          Olla de presión      35\n",
      "Pandereta                                      Pandereta      36\n",
      "Ciencia de datos con Python  Ciencia de datos con Python      39\n",
      "Mochila                                          Mochila      39\n",
      "Dinosaurio Rex                            Dinosaurio Rex      40\n",
      "Asistente virtual                      Asistente virtual      40\n",
      "Muñeca bebé                                  Muñeca bebé      40\n",
      "Mesa de comedor                          Mesa de comedor      40\n"
     ]
    },
    {
     "data": {
      "text/plain": [
       "(                                        producto  Ventas\n",
       " Producto                                                \n",
       " Armario                                  Armario      60\n",
       " TV LED UHD 4K                      TV LED UHD 4K      60\n",
       " Microondas                            Microondas      60\n",
       " Secadora de ropa                Secadora de ropa      58\n",
       " Mesa de noche                      Mesa de noche      56\n",
       " Bloques de construcción  Bloques de construcción      56\n",
       " Balón de baloncesto          Balón de baloncesto      55\n",
       " Bicicleta                              Bicicleta      54\n",
       " Impresora                              Impresora      54\n",
       " Vaso térmico                        Vaso térmico      54,\n",
       "                                                 producto  Ventas\n",
       " Producto                                                        \n",
       " Auriculares con micrófono      Auriculares con micrófono      33\n",
       " Celular ABXY                                Celular ABXY      33\n",
       " Olla de presión                          Olla de presión      35\n",
       " Pandereta                                      Pandereta      36\n",
       " Ciencia de datos con Python  Ciencia de datos con Python      39\n",
       " Mochila                                          Mochila      39\n",
       " Dinosaurio Rex                            Dinosaurio Rex      40\n",
       " Asistente virtual                      Asistente virtual      40\n",
       " Muñeca bebé                                  Muñeca bebé      40\n",
       " Mesa de comedor                          Mesa de comedor      40)"
      ]
     },
     "execution_count": 17,
     "metadata": {},
     "output_type": "execute_result"
    }
   ],
   "source": [
    "def productos_mas_menos_vendidos(df, nombre_tienda):\n",
    "    # Agrupa por 'Producto', cuenta y toma el primer nombre de producto en cada grupo\n",
    "    productos_mas_vendidos = (\n",
    "        df.groupby('Producto')\n",
    "          .agg(producto=('Producto', 'first'),\n",
    "               Ventas=('Producto', 'count'))\n",
    "          .sort_values(by='Ventas', ascending=False)\n",
    "          .head(10)\n",
    "    )\n",
    "    \n",
    "    productos_menos_vendidos = (\n",
    "        df.groupby('Producto')\n",
    "          .agg(producto=('Producto', 'first'),\n",
    "               Ventas=('Producto', 'count'))\n",
    "          .sort_values(by='Ventas', ascending=True)\n",
    "          .head(10)\n",
    "    )\n",
    "    \n",
    "    print(f'Los productos más vendidos en la {nombre_tienda} son:\\n{productos_mas_vendidos}')\n",
    "    print(f'Los productos menos vendidos en la {nombre_tienda} son:\\n{productos_menos_vendidos}')\n",
    "    return productos_mas_vendidos, productos_menos_vendidos\n",
    "\n",
    "# Llamada de ejemplo\n",
    "productos_mas_menos_vendidos(tienda_1, \"Tienda 1\")"
   ]
  },
  {
   "cell_type": "code",
   "execution_count": 18,
   "id": "88de7e3f",
   "metadata": {},
   "outputs": [
    {
     "name": "stdout",
     "output_type": "stream",
     "text": [
      "Top 10 productos MÁS vendidos en 'Tienda 1':\n",
      "               Producto  Ventas\n",
      "             Microondas      60\n",
      "          TV LED UHD 4K      60\n",
      "                Armario      60\n",
      "       Secadora de ropa      58\n",
      "          Mesa de noche      56\n",
      "Bloques de construcción      56\n",
      "    Balón de baloncesto      55\n",
      "              Bicicleta      54\n",
      "           Vaso térmico      54\n",
      "           Refrigerador      54\n",
      "\n",
      "----------------------------------------\n",
      "\n",
      "Top 10 productos MENOS vendidos en 'Tienda 1':\n",
      "                   Producto  Ventas\n",
      "  Auriculares con micrófono      33\n",
      "               Celular ABXY      33\n",
      "            Olla de presión      35\n",
      "                  Pandereta      36\n",
      "                    Mochila      39\n",
      "Ciencia de datos con Python      39\n",
      "          Asistente virtual      40\n",
      "                Muñeca bebé      40\n",
      "            Mesa de comedor      40\n",
      "             Dinosaurio Rex      40\n"
     ]
    },
    {
     "data": {
      "text/plain": [
       "(                  Producto  Ventas\n",
       " 0               Microondas      60\n",
       " 1            TV LED UHD 4K      60\n",
       " 2                  Armario      60\n",
       " 3         Secadora de ropa      58\n",
       " 4            Mesa de noche      56\n",
       " 5  Bloques de construcción      56\n",
       " 6      Balón de baloncesto      55\n",
       " 7                Bicicleta      54\n",
       " 8             Vaso térmico      54\n",
       " 9             Refrigerador      54,\n",
       "                       Producto  Ventas\n",
       " 0    Auriculares con micrófono      33\n",
       " 1                 Celular ABXY      33\n",
       " 2              Olla de presión      35\n",
       " 3                    Pandereta      36\n",
       " 4                      Mochila      39\n",
       " 5  Ciencia de datos con Python      39\n",
       " 6            Asistente virtual      40\n",
       " 7                  Muñeca bebé      40\n",
       " 8              Mesa de comedor      40\n",
       " 9               Dinosaurio Rex      40)"
      ]
     },
     "execution_count": 18,
     "metadata": {},
     "output_type": "execute_result"
    }
   ],
   "source": [
    "def productos_mas_menos_vendidos(df, nombre_tienda, top_n=10):\n",
    "    \"\"\"\n",
    "    Devuelve los top_n productos más vendidos y menos vendidos\n",
    "    a partir de un DataFrame que ya solo contiene las ventas de la tienda.\n",
    "    \"\"\"\n",
    "    # 1. Contar cuántas veces aparece cada producto\n",
    "    conteo = (\n",
    "        df['Producto']\n",
    "        .value_counts()                  # Serie: índice=Producto, valor=Ventas\n",
    "        .rename_axis('Producto')        # pone nombre a la columna índice\n",
    "        .reset_index(name='Ventas')     # convierte en DataFrame con columnas\n",
    "    )\n",
    "    \n",
    "    # 2. Extraer top N más y menos vendidos\n",
    "    mas_vendidos   = conteo.nlargest(top_n, 'Ventas').reset_index(drop=True)\n",
    "    menos_vendidos = conteo.nsmallest(top_n, 'Ventas').reset_index(drop=True)\n",
    "    \n",
    "    # 3. Mostrar resultados\n",
    "    print(f\"Top {top_n} productos MÁS vendidos en '{nombre_tienda}':\")\n",
    "    print(mas_vendidos.to_string(index=False))\n",
    "    print(\"\\n\" + \"-\"*40 + \"\\n\")\n",
    "    print(f\"Top {top_n} productos MENOS vendidos en '{nombre_tienda}':\")\n",
    "    print(menos_vendidos.to_string(index=False))\n",
    "    \n",
    "    return mas_vendidos, menos_vendidos\n",
    "productos_mas_menos_vendidos(tienda_1, \"Tienda 1\", top_n=10) #Llama a la función para la tienda 1 y muestra los 10 productos más y menos vendidos\n"
   ]
  },
  {
   "cell_type": "code",
   "execution_count": 19,
   "id": "dd363f71",
   "metadata": {},
   "outputs": [
    {
     "data": {
      "text/html": [
       "<div>\n",
       "<style scoped>\n",
       "    .dataframe tbody tr th:only-of-type {\n",
       "        vertical-align: middle;\n",
       "    }\n",
       "\n",
       "    .dataframe tbody tr th {\n",
       "        vertical-align: top;\n",
       "    }\n",
       "\n",
       "    .dataframe thead th {\n",
       "        text-align: right;\n",
       "    }\n",
       "</style>\n",
       "<table border=\"1\" class=\"dataframe\">\n",
       "  <thead>\n",
       "    <tr style=\"text-align: right;\">\n",
       "      <th></th>\n",
       "      <th>Producto</th>\n",
       "      <th>Ventas</th>\n",
       "    </tr>\n",
       "  </thead>\n",
       "  <tbody>\n",
       "    <tr>\n",
       "      <th>0</th>\n",
       "      <td>Microondas</td>\n",
       "      <td>60</td>\n",
       "    </tr>\n",
       "    <tr>\n",
       "      <th>1</th>\n",
       "      <td>TV LED UHD 4K</td>\n",
       "      <td>60</td>\n",
       "    </tr>\n",
       "    <tr>\n",
       "      <th>2</th>\n",
       "      <td>Armario</td>\n",
       "      <td>60</td>\n",
       "    </tr>\n",
       "    <tr>\n",
       "      <th>3</th>\n",
       "      <td>Secadora de ropa</td>\n",
       "      <td>58</td>\n",
       "    </tr>\n",
       "    <tr>\n",
       "      <th>4</th>\n",
       "      <td>Mesa de noche</td>\n",
       "      <td>56</td>\n",
       "    </tr>\n",
       "    <tr>\n",
       "      <th>5</th>\n",
       "      <td>Bloques de construcción</td>\n",
       "      <td>56</td>\n",
       "    </tr>\n",
       "    <tr>\n",
       "      <th>6</th>\n",
       "      <td>Balón de baloncesto</td>\n",
       "      <td>55</td>\n",
       "    </tr>\n",
       "    <tr>\n",
       "      <th>7</th>\n",
       "      <td>Bicicleta</td>\n",
       "      <td>54</td>\n",
       "    </tr>\n",
       "    <tr>\n",
       "      <th>8</th>\n",
       "      <td>Vaso térmico</td>\n",
       "      <td>54</td>\n",
       "    </tr>\n",
       "    <tr>\n",
       "      <th>9</th>\n",
       "      <td>Refrigerador</td>\n",
       "      <td>54</td>\n",
       "    </tr>\n",
       "  </tbody>\n",
       "</table>\n",
       "</div>"
      ],
      "text/plain": [
       "                  Producto  Ventas\n",
       "0               Microondas      60\n",
       "1            TV LED UHD 4K      60\n",
       "2                  Armario      60\n",
       "3         Secadora de ropa      58\n",
       "4            Mesa de noche      56\n",
       "5  Bloques de construcción      56\n",
       "6      Balón de baloncesto      55\n",
       "7                Bicicleta      54\n",
       "8             Vaso térmico      54\n",
       "9             Refrigerador      54"
      ]
     },
     "execution_count": 19,
     "metadata": {},
     "output_type": "execute_result"
    }
   ],
   "source": [
    "def productos_mas_vendidos(df, nombre_tienda, top_n=10):\n",
    "    conteo = (\n",
    "        df['Producto']\n",
    "        .value_counts()\n",
    "        .rename_axis('Producto')\n",
    "        .reset_index(name='Ventas')\n",
    "    )\n",
    "    return (\n",
    "        conteo\n",
    "            .nlargest(top_n, 'Ventas')      # → DataFrame con las top_n filas ordenadas desc.\n",
    "            .reset_index(drop=True)         # → índice limpio: 0, 1, 2, …, top_n-1\n",
    ")\n",
    "\n",
    "# Ahora la llamada no imprime nada, solo devuelve el df\n",
    "productos_mas_vendidos_t1 = productos_mas_vendidos(tienda_1, \"Tienda 1\", top_n=10) #Llama a la función para la tienda 1 y muestra los 10 productos menos vendidos\n",
    "productos_mas_vendidos_t1"
   ]
  },
  {
   "cell_type": "code",
   "execution_count": 20,
   "id": "da724c04",
   "metadata": {},
   "outputs": [
    {
     "data": {
      "text/html": [
       "<div>\n",
       "<style scoped>\n",
       "    .dataframe tbody tr th:only-of-type {\n",
       "        vertical-align: middle;\n",
       "    }\n",
       "\n",
       "    .dataframe tbody tr th {\n",
       "        vertical-align: top;\n",
       "    }\n",
       "\n",
       "    .dataframe thead th {\n",
       "        text-align: right;\n",
       "    }\n",
       "</style>\n",
       "<table border=\"1\" class=\"dataframe\">\n",
       "  <thead>\n",
       "    <tr style=\"text-align: right;\">\n",
       "      <th></th>\n",
       "      <th>Producto</th>\n",
       "      <th>Ventas</th>\n",
       "    </tr>\n",
       "  </thead>\n",
       "  <tbody>\n",
       "    <tr>\n",
       "      <th>0</th>\n",
       "      <td>Iniciando en programación</td>\n",
       "      <td>65</td>\n",
       "    </tr>\n",
       "    <tr>\n",
       "      <th>1</th>\n",
       "      <td>Microondas</td>\n",
       "      <td>62</td>\n",
       "    </tr>\n",
       "    <tr>\n",
       "      <th>2</th>\n",
       "      <td>Batería</td>\n",
       "      <td>61</td>\n",
       "    </tr>\n",
       "    <tr>\n",
       "      <th>3</th>\n",
       "      <td>Guitarra acústica</td>\n",
       "      <td>58</td>\n",
       "    </tr>\n",
       "    <tr>\n",
       "      <th>4</th>\n",
       "      <td>Pandereta</td>\n",
       "      <td>58</td>\n",
       "    </tr>\n",
       "    <tr>\n",
       "      <th>5</th>\n",
       "      <td>Secadora de ropa</td>\n",
       "      <td>57</td>\n",
       "    </tr>\n",
       "    <tr>\n",
       "      <th>6</th>\n",
       "      <td>Iphone 15</td>\n",
       "      <td>55</td>\n",
       "    </tr>\n",
       "    <tr>\n",
       "      <th>7</th>\n",
       "      <td>Bloques de construcción</td>\n",
       "      <td>54</td>\n",
       "    </tr>\n",
       "    <tr>\n",
       "      <th>8</th>\n",
       "      <td>Armario</td>\n",
       "      <td>54</td>\n",
       "    </tr>\n",
       "    <tr>\n",
       "      <th>9</th>\n",
       "      <td>Set de ollas</td>\n",
       "      <td>52</td>\n",
       "    </tr>\n",
       "  </tbody>\n",
       "</table>\n",
       "</div>"
      ],
      "text/plain": [
       "                    Producto  Ventas\n",
       "0  Iniciando en programación      65\n",
       "1                 Microondas      62\n",
       "2                    Batería      61\n",
       "3          Guitarra acústica      58\n",
       "4                  Pandereta      58\n",
       "5           Secadora de ropa      57\n",
       "6                  Iphone 15      55\n",
       "7    Bloques de construcción      54\n",
       "8                    Armario      54\n",
       "9               Set de ollas      52"
      ]
     },
     "execution_count": 20,
     "metadata": {},
     "output_type": "execute_result"
    }
   ],
   "source": [
    "productos_mas_vendidos_t2 = productos_mas_vendidos(tienda_2, \"Tienda 1\", top_n=10) #Llama a la función para la tienda 1 y muestra los 10 productos menos vendidos\n",
    "productos_mas_vendidos_t2"
   ]
  },
  {
   "cell_type": "code",
   "execution_count": 21,
   "id": "8de5ca84",
   "metadata": {},
   "outputs": [
    {
     "data": {
      "text/html": [
       "<div>\n",
       "<style scoped>\n",
       "    .dataframe tbody tr th:only-of-type {\n",
       "        vertical-align: middle;\n",
       "    }\n",
       "\n",
       "    .dataframe tbody tr th {\n",
       "        vertical-align: top;\n",
       "    }\n",
       "\n",
       "    .dataframe thead th {\n",
       "        text-align: right;\n",
       "    }\n",
       "</style>\n",
       "<table border=\"1\" class=\"dataframe\">\n",
       "  <thead>\n",
       "    <tr style=\"text-align: right;\">\n",
       "      <th></th>\n",
       "      <th>Producto</th>\n",
       "      <th>Ventas</th>\n",
       "    </tr>\n",
       "  </thead>\n",
       "  <tbody>\n",
       "    <tr>\n",
       "      <th>0</th>\n",
       "      <td>Kit de bancas</td>\n",
       "      <td>57</td>\n",
       "    </tr>\n",
       "    <tr>\n",
       "      <th>1</th>\n",
       "      <td>Mesa de comedor</td>\n",
       "      <td>56</td>\n",
       "    </tr>\n",
       "    <tr>\n",
       "      <th>2</th>\n",
       "      <td>Cama king</td>\n",
       "      <td>56</td>\n",
       "    </tr>\n",
       "    <tr>\n",
       "      <th>3</th>\n",
       "      <td>Set de ollas</td>\n",
       "      <td>55</td>\n",
       "    </tr>\n",
       "    <tr>\n",
       "      <th>4</th>\n",
       "      <td>Mesa de noche</td>\n",
       "      <td>55</td>\n",
       "    </tr>\n",
       "    <tr>\n",
       "      <th>5</th>\n",
       "      <td>Smart TV</td>\n",
       "      <td>54</td>\n",
       "    </tr>\n",
       "    <tr>\n",
       "      <th>6</th>\n",
       "      <td>Estufa</td>\n",
       "      <td>53</td>\n",
       "    </tr>\n",
       "    <tr>\n",
       "      <th>7</th>\n",
       "      <td>Cuerda para saltar</td>\n",
       "      <td>53</td>\n",
       "    </tr>\n",
       "    <tr>\n",
       "      <th>8</th>\n",
       "      <td>Modelado predictivo</td>\n",
       "      <td>53</td>\n",
       "    </tr>\n",
       "    <tr>\n",
       "      <th>9</th>\n",
       "      <td>Carrito de control remoto</td>\n",
       "      <td>52</td>\n",
       "    </tr>\n",
       "  </tbody>\n",
       "</table>\n",
       "</div>"
      ],
      "text/plain": [
       "                    Producto  Ventas\n",
       "0              Kit de bancas      57\n",
       "1            Mesa de comedor      56\n",
       "2                  Cama king      56\n",
       "3               Set de ollas      55\n",
       "4              Mesa de noche      55\n",
       "5                   Smart TV      54\n",
       "6                     Estufa      53\n",
       "7         Cuerda para saltar      53\n",
       "8        Modelado predictivo      53\n",
       "9  Carrito de control remoto      52"
      ]
     },
     "execution_count": 21,
     "metadata": {},
     "output_type": "execute_result"
    }
   ],
   "source": [
    "productos_mas_vendidos_t3 = productos_mas_vendidos(tienda_3, \"Tienda 3\", top_n=10) \n",
    "productos_mas_vendidos_t3"
   ]
  },
  {
   "cell_type": "code",
   "execution_count": 22,
   "id": "eab2d79c",
   "metadata": {},
   "outputs": [
    {
     "data": {
      "text/html": [
       "<div>\n",
       "<style scoped>\n",
       "    .dataframe tbody tr th:only-of-type {\n",
       "        vertical-align: middle;\n",
       "    }\n",
       "\n",
       "    .dataframe tbody tr th {\n",
       "        vertical-align: top;\n",
       "    }\n",
       "\n",
       "    .dataframe thead th {\n",
       "        text-align: right;\n",
       "    }\n",
       "</style>\n",
       "<table border=\"1\" class=\"dataframe\">\n",
       "  <thead>\n",
       "    <tr style=\"text-align: right;\">\n",
       "      <th></th>\n",
       "      <th>Producto</th>\n",
       "      <th>Ventas</th>\n",
       "    </tr>\n",
       "  </thead>\n",
       "  <tbody>\n",
       "    <tr>\n",
       "      <th>0</th>\n",
       "      <td>Cama box</td>\n",
       "      <td>62</td>\n",
       "    </tr>\n",
       "    <tr>\n",
       "      <th>1</th>\n",
       "      <td>Cubertería</td>\n",
       "      <td>59</td>\n",
       "    </tr>\n",
       "    <tr>\n",
       "      <th>2</th>\n",
       "      <td>Dashboards con Power BI</td>\n",
       "      <td>56</td>\n",
       "    </tr>\n",
       "    <tr>\n",
       "      <th>3</th>\n",
       "      <td>Cama king</td>\n",
       "      <td>56</td>\n",
       "    </tr>\n",
       "    <tr>\n",
       "      <th>4</th>\n",
       "      <td>Carrito de control remoto</td>\n",
       "      <td>55</td>\n",
       "    </tr>\n",
       "    <tr>\n",
       "      <th>5</th>\n",
       "      <td>Mesa de comedor</td>\n",
       "      <td>55</td>\n",
       "    </tr>\n",
       "    <tr>\n",
       "      <th>6</th>\n",
       "      <td>Mesa de noche</td>\n",
       "      <td>55</td>\n",
       "    </tr>\n",
       "    <tr>\n",
       "      <th>7</th>\n",
       "      <td>Smart TV</td>\n",
       "      <td>54</td>\n",
       "    </tr>\n",
       "    <tr>\n",
       "      <th>8</th>\n",
       "      <td>Bloques de construcción</td>\n",
       "      <td>54</td>\n",
       "    </tr>\n",
       "    <tr>\n",
       "      <th>9</th>\n",
       "      <td>Pandereta</td>\n",
       "      <td>52</td>\n",
       "    </tr>\n",
       "  </tbody>\n",
       "</table>\n",
       "</div>"
      ],
      "text/plain": [
       "                    Producto  Ventas\n",
       "0                   Cama box      62\n",
       "1                 Cubertería      59\n",
       "2    Dashboards con Power BI      56\n",
       "3                  Cama king      56\n",
       "4  Carrito de control remoto      55\n",
       "5            Mesa de comedor      55\n",
       "6              Mesa de noche      55\n",
       "7                   Smart TV      54\n",
       "8    Bloques de construcción      54\n",
       "9                  Pandereta      52"
      ]
     },
     "execution_count": 22,
     "metadata": {},
     "output_type": "execute_result"
    }
   ],
   "source": [
    "productos_mas_vendidos_t4 = productos_mas_vendidos(tienda_4, \"Tienda 4\", top_n=10) #Llama a la función para la tienda 1 y muestra los 10 productos menos vendidos\n",
    "productos_mas_vendidos_t4"
   ]
  },
  {
   "cell_type": "code",
   "execution_count": 23,
   "id": "cb679671",
   "metadata": {},
   "outputs": [
    {
     "data": {
      "text/html": [
       "<div>\n",
       "<style scoped>\n",
       "    .dataframe tbody tr th:only-of-type {\n",
       "        vertical-align: middle;\n",
       "    }\n",
       "\n",
       "    .dataframe tbody tr th {\n",
       "        vertical-align: top;\n",
       "    }\n",
       "\n",
       "    .dataframe thead th {\n",
       "        text-align: right;\n",
       "    }\n",
       "</style>\n",
       "<table border=\"1\" class=\"dataframe\">\n",
       "  <thead>\n",
       "    <tr style=\"text-align: right;\">\n",
       "      <th></th>\n",
       "      <th>Producto</th>\n",
       "      <th>Ventas</th>\n",
       "    </tr>\n",
       "  </thead>\n",
       "  <tbody>\n",
       "    <tr>\n",
       "      <th>0</th>\n",
       "      <td>Auriculares con micrófono</td>\n",
       "      <td>33</td>\n",
       "    </tr>\n",
       "    <tr>\n",
       "      <th>1</th>\n",
       "      <td>Celular ABXY</td>\n",
       "      <td>33</td>\n",
       "    </tr>\n",
       "    <tr>\n",
       "      <th>2</th>\n",
       "      <td>Olla de presión</td>\n",
       "      <td>35</td>\n",
       "    </tr>\n",
       "    <tr>\n",
       "      <th>3</th>\n",
       "      <td>Pandereta</td>\n",
       "      <td>36</td>\n",
       "    </tr>\n",
       "    <tr>\n",
       "      <th>4</th>\n",
       "      <td>Mochila</td>\n",
       "      <td>39</td>\n",
       "    </tr>\n",
       "    <tr>\n",
       "      <th>5</th>\n",
       "      <td>Ciencia de datos con Python</td>\n",
       "      <td>39</td>\n",
       "    </tr>\n",
       "    <tr>\n",
       "      <th>6</th>\n",
       "      <td>Asistente virtual</td>\n",
       "      <td>40</td>\n",
       "    </tr>\n",
       "    <tr>\n",
       "      <th>7</th>\n",
       "      <td>Muñeca bebé</td>\n",
       "      <td>40</td>\n",
       "    </tr>\n",
       "    <tr>\n",
       "      <th>8</th>\n",
       "      <td>Mesa de comedor</td>\n",
       "      <td>40</td>\n",
       "    </tr>\n",
       "    <tr>\n",
       "      <th>9</th>\n",
       "      <td>Dinosaurio Rex</td>\n",
       "      <td>40</td>\n",
       "    </tr>\n",
       "  </tbody>\n",
       "</table>\n",
       "</div>"
      ],
      "text/plain": [
       "                      Producto  Ventas\n",
       "0    Auriculares con micrófono      33\n",
       "1                 Celular ABXY      33\n",
       "2              Olla de presión      35\n",
       "3                    Pandereta      36\n",
       "4                      Mochila      39\n",
       "5  Ciencia de datos con Python      39\n",
       "6            Asistente virtual      40\n",
       "7                  Muñeca bebé      40\n",
       "8              Mesa de comedor      40\n",
       "9               Dinosaurio Rex      40"
      ]
     },
     "execution_count": 23,
     "metadata": {},
     "output_type": "execute_result"
    }
   ],
   "source": [
    "def productos_menos_vendidos(df, nombre_tienda, top_n=10):\n",
    "    conteo = (\n",
    "        df['Producto']\n",
    "        .value_counts()\n",
    "        .rename_axis('Producto')\n",
    "        .reset_index(name='Ventas')\n",
    "    )\n",
    "    return (\n",
    "        conteo\n",
    "            .nsmallest(top_n, 'Ventas')      # → DataFrame con las top_n filas ordenadas desc.\n",
    "            .reset_index(drop=True)         # → índice limpio: 0, 1, 2, …, top_n-1\n",
    ")\n",
    "\n",
    "# Ahora la llamada no imprime nada, solo devuelve el df\n",
    "productos_menos_vendidos_t1 = productos_menos_vendidos(tienda_1, \"Tienda 1\", top_n=10) #Llama a la función para la tienda 1 y muestra los 10 productos menos vendidos\n",
    "productos_menos_vendidos_t1"
   ]
  },
  {
   "cell_type": "code",
   "execution_count": 24,
   "id": "2ca930eb",
   "metadata": {},
   "outputs": [
    {
     "data": {
      "text/html": [
       "<div>\n",
       "<style scoped>\n",
       "    .dataframe tbody tr th:only-of-type {\n",
       "        vertical-align: middle;\n",
       "    }\n",
       "\n",
       "    .dataframe tbody tr th {\n",
       "        vertical-align: top;\n",
       "    }\n",
       "\n",
       "    .dataframe thead th {\n",
       "        text-align: right;\n",
       "    }\n",
       "</style>\n",
       "<table border=\"1\" class=\"dataframe\">\n",
       "  <thead>\n",
       "    <tr style=\"text-align: right;\">\n",
       "      <th></th>\n",
       "      <th>Producto</th>\n",
       "      <th>Ventas</th>\n",
       "    </tr>\n",
       "  </thead>\n",
       "  <tbody>\n",
       "    <tr>\n",
       "      <th>0</th>\n",
       "      <td>Juego de mesa</td>\n",
       "      <td>32</td>\n",
       "    </tr>\n",
       "    <tr>\n",
       "      <th>1</th>\n",
       "      <td>Mesa de comedor</td>\n",
       "      <td>34</td>\n",
       "    </tr>\n",
       "    <tr>\n",
       "      <th>2</th>\n",
       "      <td>Impresora</td>\n",
       "      <td>34</td>\n",
       "    </tr>\n",
       "    <tr>\n",
       "      <th>3</th>\n",
       "      <td>Sillón</td>\n",
       "      <td>35</td>\n",
       "    </tr>\n",
       "    <tr>\n",
       "      <th>4</th>\n",
       "      <td>Auriculares</td>\n",
       "      <td>37</td>\n",
       "    </tr>\n",
       "    <tr>\n",
       "      <th>5</th>\n",
       "      <td>Asistente virtual</td>\n",
       "      <td>38</td>\n",
       "    </tr>\n",
       "    <tr>\n",
       "      <th>6</th>\n",
       "      <td>Cubertería</td>\n",
       "      <td>39</td>\n",
       "    </tr>\n",
       "    <tr>\n",
       "      <th>7</th>\n",
       "      <td>Smart TV</td>\n",
       "      <td>40</td>\n",
       "    </tr>\n",
       "    <tr>\n",
       "      <th>8</th>\n",
       "      <td>Celular ABXY</td>\n",
       "      <td>41</td>\n",
       "    </tr>\n",
       "    <tr>\n",
       "      <th>9</th>\n",
       "      <td>Balón de baloncesto</td>\n",
       "      <td>42</td>\n",
       "    </tr>\n",
       "  </tbody>\n",
       "</table>\n",
       "</div>"
      ],
      "text/plain": [
       "              Producto  Ventas\n",
       "0        Juego de mesa      32\n",
       "1      Mesa de comedor      34\n",
       "2            Impresora      34\n",
       "3               Sillón      35\n",
       "4          Auriculares      37\n",
       "5    Asistente virtual      38\n",
       "6           Cubertería      39\n",
       "7             Smart TV      40\n",
       "8         Celular ABXY      41\n",
       "9  Balón de baloncesto      42"
      ]
     },
     "execution_count": 24,
     "metadata": {},
     "output_type": "execute_result"
    }
   ],
   "source": [
    "productos_menos_vendidos_t2 = productos_menos_vendidos(tienda_2, \"Tienda 1\", top_n=10) #Llama a la función para la tienda 1 y muestra los 10 productos menos vendidos\n",
    "productos_menos_vendidos_t2"
   ]
  },
  {
   "cell_type": "code",
   "execution_count": 25,
   "id": "d40fc4df",
   "metadata": {},
   "outputs": [
    {
     "data": {
      "text/html": [
       "<div>\n",
       "<style scoped>\n",
       "    .dataframe tbody tr th:only-of-type {\n",
       "        vertical-align: middle;\n",
       "    }\n",
       "\n",
       "    .dataframe tbody tr th {\n",
       "        vertical-align: top;\n",
       "    }\n",
       "\n",
       "    .dataframe thead th {\n",
       "        text-align: right;\n",
       "    }\n",
       "</style>\n",
       "<table border=\"1\" class=\"dataframe\">\n",
       "  <thead>\n",
       "    <tr style=\"text-align: right;\">\n",
       "      <th></th>\n",
       "      <th>Producto</th>\n",
       "      <th>Ventas</th>\n",
       "    </tr>\n",
       "  </thead>\n",
       "  <tbody>\n",
       "    <tr>\n",
       "      <th>0</th>\n",
       "      <td>Bloques de construcción</td>\n",
       "      <td>35</td>\n",
       "    </tr>\n",
       "    <tr>\n",
       "      <th>1</th>\n",
       "      <td>Set de vasos</td>\n",
       "      <td>36</td>\n",
       "    </tr>\n",
       "    <tr>\n",
       "      <th>2</th>\n",
       "      <td>Mochila</td>\n",
       "      <td>36</td>\n",
       "    </tr>\n",
       "    <tr>\n",
       "      <th>3</th>\n",
       "      <td>Microondas</td>\n",
       "      <td>36</td>\n",
       "    </tr>\n",
       "    <tr>\n",
       "      <th>4</th>\n",
       "      <td>Vaso térmico</td>\n",
       "      <td>38</td>\n",
       "    </tr>\n",
       "    <tr>\n",
       "      <th>5</th>\n",
       "      <td>Guitarra eléctrica</td>\n",
       "      <td>38</td>\n",
       "    </tr>\n",
       "    <tr>\n",
       "      <th>6</th>\n",
       "      <td>Cubertería</td>\n",
       "      <td>39</td>\n",
       "    </tr>\n",
       "    <tr>\n",
       "      <th>7</th>\n",
       "      <td>Muñeca bebé</td>\n",
       "      <td>39</td>\n",
       "    </tr>\n",
       "    <tr>\n",
       "      <th>8</th>\n",
       "      <td>Auriculares con micrófono</td>\n",
       "      <td>39</td>\n",
       "    </tr>\n",
       "    <tr>\n",
       "      <th>9</th>\n",
       "      <td>Asistente virtual</td>\n",
       "      <td>39</td>\n",
       "    </tr>\n",
       "  </tbody>\n",
       "</table>\n",
       "</div>"
      ],
      "text/plain": [
       "                    Producto  Ventas\n",
       "0    Bloques de construcción      35\n",
       "1               Set de vasos      36\n",
       "2                    Mochila      36\n",
       "3                 Microondas      36\n",
       "4               Vaso térmico      38\n",
       "5         Guitarra eléctrica      38\n",
       "6                 Cubertería      39\n",
       "7                Muñeca bebé      39\n",
       "8  Auriculares con micrófono      39\n",
       "9          Asistente virtual      39"
      ]
     },
     "execution_count": 25,
     "metadata": {},
     "output_type": "execute_result"
    }
   ],
   "source": [
    "productos_menos_vendidos_t3 = productos_menos_vendidos(tienda_3, \"Tienda 3\", top_n=10)\n",
    "productos_menos_vendidos_t3"
   ]
  },
  {
   "cell_type": "code",
   "execution_count": 40,
   "id": "97b90065",
   "metadata": {},
   "outputs": [
    {
     "data": {
      "text/html": [
       "<div>\n",
       "<style scoped>\n",
       "    .dataframe tbody tr th:only-of-type {\n",
       "        vertical-align: middle;\n",
       "    }\n",
       "\n",
       "    .dataframe tbody tr th {\n",
       "        vertical-align: top;\n",
       "    }\n",
       "\n",
       "    .dataframe thead th {\n",
       "        text-align: right;\n",
       "    }\n",
       "</style>\n",
       "<table border=\"1\" class=\"dataframe\">\n",
       "  <thead>\n",
       "    <tr style=\"text-align: right;\">\n",
       "      <th></th>\n",
       "      <th>Producto</th>\n",
       "      <th>Ventas</th>\n",
       "    </tr>\n",
       "  </thead>\n",
       "  <tbody>\n",
       "    <tr>\n",
       "      <th>0</th>\n",
       "      <td>Cama box</td>\n",
       "      <td>62</td>\n",
       "    </tr>\n",
       "    <tr>\n",
       "      <th>1</th>\n",
       "      <td>Cubertería</td>\n",
       "      <td>59</td>\n",
       "    </tr>\n",
       "    <tr>\n",
       "      <th>2</th>\n",
       "      <td>Dashboards con Power BI</td>\n",
       "      <td>56</td>\n",
       "    </tr>\n",
       "    <tr>\n",
       "      <th>3</th>\n",
       "      <td>Cama king</td>\n",
       "      <td>56</td>\n",
       "    </tr>\n",
       "    <tr>\n",
       "      <th>4</th>\n",
       "      <td>Carrito de control remoto</td>\n",
       "      <td>55</td>\n",
       "    </tr>\n",
       "    <tr>\n",
       "      <th>5</th>\n",
       "      <td>Mesa de comedor</td>\n",
       "      <td>55</td>\n",
       "    </tr>\n",
       "    <tr>\n",
       "      <th>6</th>\n",
       "      <td>Mesa de noche</td>\n",
       "      <td>55</td>\n",
       "    </tr>\n",
       "    <tr>\n",
       "      <th>7</th>\n",
       "      <td>Smart TV</td>\n",
       "      <td>54</td>\n",
       "    </tr>\n",
       "    <tr>\n",
       "      <th>8</th>\n",
       "      <td>Bloques de construcción</td>\n",
       "      <td>54</td>\n",
       "    </tr>\n",
       "    <tr>\n",
       "      <th>9</th>\n",
       "      <td>Pandereta</td>\n",
       "      <td>52</td>\n",
       "    </tr>\n",
       "  </tbody>\n",
       "</table>\n",
       "</div>"
      ],
      "text/plain": [
       "                    Producto  Ventas\n",
       "0                   Cama box      62\n",
       "1                 Cubertería      59\n",
       "2    Dashboards con Power BI      56\n",
       "3                  Cama king      56\n",
       "4  Carrito de control remoto      55\n",
       "5            Mesa de comedor      55\n",
       "6              Mesa de noche      55\n",
       "7                   Smart TV      54\n",
       "8    Bloques de construcción      54\n",
       "9                  Pandereta      52"
      ]
     },
     "execution_count": 40,
     "metadata": {},
     "output_type": "execute_result"
    }
   ],
   "source": [
    "productos_mas_vendidos_t4 = productos_mas_vendidos(tienda_4, \"Tienda 4\", top_n=10) #Llama a la función para la tienda 1 y muestra los 10 productos menos vendidos\n",
    "productos_mas_vendidos_t4"
   ]
  },
  {
   "cell_type": "code",
   "execution_count": 41,
   "id": "d70a129e",
   "metadata": {},
   "outputs": [
    {
     "data": {
      "text/html": [
       "<div>\n",
       "<style scoped>\n",
       "    .dataframe tbody tr th:only-of-type {\n",
       "        vertical-align: middle;\n",
       "    }\n",
       "\n",
       "    .dataframe tbody tr th {\n",
       "        vertical-align: top;\n",
       "    }\n",
       "\n",
       "    .dataframe thead th {\n",
       "        text-align: right;\n",
       "    }\n",
       "</style>\n",
       "<table border=\"1\" class=\"dataframe\">\n",
       "  <thead>\n",
       "    <tr style=\"text-align: right;\">\n",
       "      <th></th>\n",
       "      <th>Producto</th>\n",
       "      <th>Ventas</th>\n",
       "    </tr>\n",
       "  </thead>\n",
       "  <tbody>\n",
       "    <tr>\n",
       "      <th>0</th>\n",
       "      <td>Guitarra eléctrica</td>\n",
       "      <td>33</td>\n",
       "    </tr>\n",
       "    <tr>\n",
       "      <th>1</th>\n",
       "      <td>Armario</td>\n",
       "      <td>34</td>\n",
       "    </tr>\n",
       "    <tr>\n",
       "      <th>2</th>\n",
       "      <td>Guitarra acústica</td>\n",
       "      <td>37</td>\n",
       "    </tr>\n",
       "    <tr>\n",
       "      <th>3</th>\n",
       "      <td>Lavadora de ropa</td>\n",
       "      <td>38</td>\n",
       "    </tr>\n",
       "    <tr>\n",
       "      <th>4</th>\n",
       "      <td>Refrigerador</td>\n",
       "      <td>38</td>\n",
       "    </tr>\n",
       "    <tr>\n",
       "      <th>5</th>\n",
       "      <td>Ciencia de datos con Python</td>\n",
       "      <td>38</td>\n",
       "    </tr>\n",
       "    <tr>\n",
       "      <th>6</th>\n",
       "      <td>Celular ABXY</td>\n",
       "      <td>39</td>\n",
       "    </tr>\n",
       "    <tr>\n",
       "      <th>7</th>\n",
       "      <td>Ajedrez de madera</td>\n",
       "      <td>39</td>\n",
       "    </tr>\n",
       "    <tr>\n",
       "      <th>8</th>\n",
       "      <td>Smartwatch</td>\n",
       "      <td>39</td>\n",
       "    </tr>\n",
       "    <tr>\n",
       "      <th>9</th>\n",
       "      <td>TV LED UHD 4K</td>\n",
       "      <td>40</td>\n",
       "    </tr>\n",
       "  </tbody>\n",
       "</table>\n",
       "</div>"
      ],
      "text/plain": [
       "                      Producto  Ventas\n",
       "0           Guitarra eléctrica      33\n",
       "1                      Armario      34\n",
       "2            Guitarra acústica      37\n",
       "3             Lavadora de ropa      38\n",
       "4                 Refrigerador      38\n",
       "5  Ciencia de datos con Python      38\n",
       "6                 Celular ABXY      39\n",
       "7            Ajedrez de madera      39\n",
       "8                   Smartwatch      39\n",
       "9                TV LED UHD 4K      40"
      ]
     },
     "execution_count": 41,
     "metadata": {},
     "output_type": "execute_result"
    }
   ],
   "source": [
    "productos_menos_vendidos_t4 = productos_menos_vendidos(tienda_4, \"Tienda 4\", top_n=10) #Llama a la función para la tienda 1 y muestra los 10 productos menos vendidos\n",
    "productos_menos_vendidos_t4"
   ]
  },
  {
   "cell_type": "code",
   "execution_count": null,
   "id": "4e93de45",
   "metadata": {},
   "outputs": [
    {
     "data": {
      "application/vnd.plotly.v1+json": {
       "config": {
        "plotlyServerURL": "https://plot.ly"
       },
       "data": [
        {
         "hovertemplate": "%{y}<br>Ventas: %{x}<extra></extra>",
         "marker": {
          "color": "crimson",
          "line": {
           "color": "darkred",
           "width": 2
          },
          "opacity": 0.8,
          "size": 14,
          "symbol": "circle"
         },
         "mode": "markers",
         "name": "Top vendidos",
         "type": "scatter",
         "x": {
          "bdata": "PDw8Ojg4NzY2Ng==",
          "dtype": "i1"
         },
         "y": [
          "Microondas",
          "TV LED UHD 4K",
          "Armario",
          "Secadora de ropa",
          "Mesa de noche",
          "Bloques de construcción",
          "Balón de baloncesto",
          "Bicicleta",
          "Vaso térmico",
          "Refrigerador"
         ]
        },
        {
         "hovertemplate": "%{y}<br>Ventas: %{x}<extra></extra>",
         "marker": {
          "color": "gold",
          "line": {
           "color": "darkgoldenrod",
           "width": 2
          },
          "opacity": 0.8,
          "size": 14,
          "symbol": "circle-open"
         },
         "mode": "markers",
         "name": "Menos vendidos",
         "type": "scatter",
         "x": {
          "bdata": "ISEjJCcnKCgoKA==",
          "dtype": "i1"
         },
         "y": [
          "Auriculares con micrófono",
          "Celular ABXY",
          "Olla de presión",
          "Pandereta",
          "Mochila",
          "Ciencia de datos con Python",
          "Asistente virtual",
          "Muñeca bebé",
          "Mesa de comedor",
          "Dinosaurio Rex"
         ]
        }
       ],
       "layout": {
        "font": {
         "color": "#555555",
         "family": "Calibri",
         "size": 12
        },
        "legend": {
         "bgcolor": "rgba(255,255,255,0.8)",
         "bordercolor": "#CCCCCC",
         "borderwidth": 1,
         "orientation": "h",
         "title": {
          "text": "Categoría"
         },
         "x": 0.5,
         "xanchor": "center",
         "y": 1.02,
         "yanchor": "bottom"
        },
        "margin": {
         "b": 40,
         "l": 120,
         "r": 40,
         "t": 100
        },
        "paper_bgcolor": "white",
        "plot_bgcolor": "whitesmoke",
        "template": {
         "data": {
          "bar": [
           {
            "error_x": {
             "color": "#2a3f5f"
            },
            "error_y": {
             "color": "#2a3f5f"
            },
            "marker": {
             "line": {
              "color": "white",
              "width": 0.5
             },
             "pattern": {
              "fillmode": "overlay",
              "size": 10,
              "solidity": 0.2
             }
            },
            "type": "bar"
           }
          ],
          "barpolar": [
           {
            "marker": {
             "line": {
              "color": "white",
              "width": 0.5
             },
             "pattern": {
              "fillmode": "overlay",
              "size": 10,
              "solidity": 0.2
             }
            },
            "type": "barpolar"
           }
          ],
          "carpet": [
           {
            "aaxis": {
             "endlinecolor": "#2a3f5f",
             "gridcolor": "#C8D4E3",
             "linecolor": "#C8D4E3",
             "minorgridcolor": "#C8D4E3",
             "startlinecolor": "#2a3f5f"
            },
            "baxis": {
             "endlinecolor": "#2a3f5f",
             "gridcolor": "#C8D4E3",
             "linecolor": "#C8D4E3",
             "minorgridcolor": "#C8D4E3",
             "startlinecolor": "#2a3f5f"
            },
            "type": "carpet"
           }
          ],
          "choropleth": [
           {
            "colorbar": {
             "outlinewidth": 0,
             "ticks": ""
            },
            "type": "choropleth"
           }
          ],
          "contour": [
           {
            "colorbar": {
             "outlinewidth": 0,
             "ticks": ""
            },
            "colorscale": [
             [
              0,
              "#0d0887"
             ],
             [
              0.1111111111111111,
              "#46039f"
             ],
             [
              0.2222222222222222,
              "#7201a8"
             ],
             [
              0.3333333333333333,
              "#9c179e"
             ],
             [
              0.4444444444444444,
              "#bd3786"
             ],
             [
              0.5555555555555556,
              "#d8576b"
             ],
             [
              0.6666666666666666,
              "#ed7953"
             ],
             [
              0.7777777777777778,
              "#fb9f3a"
             ],
             [
              0.8888888888888888,
              "#fdca26"
             ],
             [
              1,
              "#f0f921"
             ]
            ],
            "type": "contour"
           }
          ],
          "contourcarpet": [
           {
            "colorbar": {
             "outlinewidth": 0,
             "ticks": ""
            },
            "type": "contourcarpet"
           }
          ],
          "heatmap": [
           {
            "colorbar": {
             "outlinewidth": 0,
             "ticks": ""
            },
            "colorscale": [
             [
              0,
              "#0d0887"
             ],
             [
              0.1111111111111111,
              "#46039f"
             ],
             [
              0.2222222222222222,
              "#7201a8"
             ],
             [
              0.3333333333333333,
              "#9c179e"
             ],
             [
              0.4444444444444444,
              "#bd3786"
             ],
             [
              0.5555555555555556,
              "#d8576b"
             ],
             [
              0.6666666666666666,
              "#ed7953"
             ],
             [
              0.7777777777777778,
              "#fb9f3a"
             ],
             [
              0.8888888888888888,
              "#fdca26"
             ],
             [
              1,
              "#f0f921"
             ]
            ],
            "type": "heatmap"
           }
          ],
          "histogram": [
           {
            "marker": {
             "pattern": {
              "fillmode": "overlay",
              "size": 10,
              "solidity": 0.2
             }
            },
            "type": "histogram"
           }
          ],
          "histogram2d": [
           {
            "colorbar": {
             "outlinewidth": 0,
             "ticks": ""
            },
            "colorscale": [
             [
              0,
              "#0d0887"
             ],
             [
              0.1111111111111111,
              "#46039f"
             ],
             [
              0.2222222222222222,
              "#7201a8"
             ],
             [
              0.3333333333333333,
              "#9c179e"
             ],
             [
              0.4444444444444444,
              "#bd3786"
             ],
             [
              0.5555555555555556,
              "#d8576b"
             ],
             [
              0.6666666666666666,
              "#ed7953"
             ],
             [
              0.7777777777777778,
              "#fb9f3a"
             ],
             [
              0.8888888888888888,
              "#fdca26"
             ],
             [
              1,
              "#f0f921"
             ]
            ],
            "type": "histogram2d"
           }
          ],
          "histogram2dcontour": [
           {
            "colorbar": {
             "outlinewidth": 0,
             "ticks": ""
            },
            "colorscale": [
             [
              0,
              "#0d0887"
             ],
             [
              0.1111111111111111,
              "#46039f"
             ],
             [
              0.2222222222222222,
              "#7201a8"
             ],
             [
              0.3333333333333333,
              "#9c179e"
             ],
             [
              0.4444444444444444,
              "#bd3786"
             ],
             [
              0.5555555555555556,
              "#d8576b"
             ],
             [
              0.6666666666666666,
              "#ed7953"
             ],
             [
              0.7777777777777778,
              "#fb9f3a"
             ],
             [
              0.8888888888888888,
              "#fdca26"
             ],
             [
              1,
              "#f0f921"
             ]
            ],
            "type": "histogram2dcontour"
           }
          ],
          "mesh3d": [
           {
            "colorbar": {
             "outlinewidth": 0,
             "ticks": ""
            },
            "type": "mesh3d"
           }
          ],
          "parcoords": [
           {
            "line": {
             "colorbar": {
              "outlinewidth": 0,
              "ticks": ""
             }
            },
            "type": "parcoords"
           }
          ],
          "pie": [
           {
            "automargin": true,
            "type": "pie"
           }
          ],
          "scatter": [
           {
            "fillpattern": {
             "fillmode": "overlay",
             "size": 10,
             "solidity": 0.2
            },
            "type": "scatter"
           }
          ],
          "scatter3d": [
           {
            "line": {
             "colorbar": {
              "outlinewidth": 0,
              "ticks": ""
             }
            },
            "marker": {
             "colorbar": {
              "outlinewidth": 0,
              "ticks": ""
             }
            },
            "type": "scatter3d"
           }
          ],
          "scattercarpet": [
           {
            "marker": {
             "colorbar": {
              "outlinewidth": 0,
              "ticks": ""
             }
            },
            "type": "scattercarpet"
           }
          ],
          "scattergeo": [
           {
            "marker": {
             "colorbar": {
              "outlinewidth": 0,
              "ticks": ""
             }
            },
            "type": "scattergeo"
           }
          ],
          "scattergl": [
           {
            "marker": {
             "colorbar": {
              "outlinewidth": 0,
              "ticks": ""
             }
            },
            "type": "scattergl"
           }
          ],
          "scattermap": [
           {
            "marker": {
             "colorbar": {
              "outlinewidth": 0,
              "ticks": ""
             }
            },
            "type": "scattermap"
           }
          ],
          "scattermapbox": [
           {
            "marker": {
             "colorbar": {
              "outlinewidth": 0,
              "ticks": ""
             }
            },
            "type": "scattermapbox"
           }
          ],
          "scatterpolar": [
           {
            "marker": {
             "colorbar": {
              "outlinewidth": 0,
              "ticks": ""
             }
            },
            "type": "scatterpolar"
           }
          ],
          "scatterpolargl": [
           {
            "marker": {
             "colorbar": {
              "outlinewidth": 0,
              "ticks": ""
             }
            },
            "type": "scatterpolargl"
           }
          ],
          "scatterternary": [
           {
            "marker": {
             "colorbar": {
              "outlinewidth": 0,
              "ticks": ""
             }
            },
            "type": "scatterternary"
           }
          ],
          "surface": [
           {
            "colorbar": {
             "outlinewidth": 0,
             "ticks": ""
            },
            "colorscale": [
             [
              0,
              "#0d0887"
             ],
             [
              0.1111111111111111,
              "#46039f"
             ],
             [
              0.2222222222222222,
              "#7201a8"
             ],
             [
              0.3333333333333333,
              "#9c179e"
             ],
             [
              0.4444444444444444,
              "#bd3786"
             ],
             [
              0.5555555555555556,
              "#d8576b"
             ],
             [
              0.6666666666666666,
              "#ed7953"
             ],
             [
              0.7777777777777778,
              "#fb9f3a"
             ],
             [
              0.8888888888888888,
              "#fdca26"
             ],
             [
              1,
              "#f0f921"
             ]
            ],
            "type": "surface"
           }
          ],
          "table": [
           {
            "cells": {
             "fill": {
              "color": "#EBF0F8"
             },
             "line": {
              "color": "white"
             }
            },
            "header": {
             "fill": {
              "color": "#C8D4E3"
             },
             "line": {
              "color": "white"
             }
            },
            "type": "table"
           }
          ]
         },
         "layout": {
          "annotationdefaults": {
           "arrowcolor": "#2a3f5f",
           "arrowhead": 0,
           "arrowwidth": 1
          },
          "autotypenumbers": "strict",
          "coloraxis": {
           "colorbar": {
            "outlinewidth": 0,
            "ticks": ""
           }
          },
          "colorscale": {
           "diverging": [
            [
             0,
             "#8e0152"
            ],
            [
             0.1,
             "#c51b7d"
            ],
            [
             0.2,
             "#de77ae"
            ],
            [
             0.3,
             "#f1b6da"
            ],
            [
             0.4,
             "#fde0ef"
            ],
            [
             0.5,
             "#f7f7f7"
            ],
            [
             0.6,
             "#e6f5d0"
            ],
            [
             0.7,
             "#b8e186"
            ],
            [
             0.8,
             "#7fbc41"
            ],
            [
             0.9,
             "#4d9221"
            ],
            [
             1,
             "#276419"
            ]
           ],
           "sequential": [
            [
             0,
             "#0d0887"
            ],
            [
             0.1111111111111111,
             "#46039f"
            ],
            [
             0.2222222222222222,
             "#7201a8"
            ],
            [
             0.3333333333333333,
             "#9c179e"
            ],
            [
             0.4444444444444444,
             "#bd3786"
            ],
            [
             0.5555555555555556,
             "#d8576b"
            ],
            [
             0.6666666666666666,
             "#ed7953"
            ],
            [
             0.7777777777777778,
             "#fb9f3a"
            ],
            [
             0.8888888888888888,
             "#fdca26"
            ],
            [
             1,
             "#f0f921"
            ]
           ],
           "sequentialminus": [
            [
             0,
             "#0d0887"
            ],
            [
             0.1111111111111111,
             "#46039f"
            ],
            [
             0.2222222222222222,
             "#7201a8"
            ],
            [
             0.3333333333333333,
             "#9c179e"
            ],
            [
             0.4444444444444444,
             "#bd3786"
            ],
            [
             0.5555555555555556,
             "#d8576b"
            ],
            [
             0.6666666666666666,
             "#ed7953"
            ],
            [
             0.7777777777777778,
             "#fb9f3a"
            ],
            [
             0.8888888888888888,
             "#fdca26"
            ],
            [
             1,
             "#f0f921"
            ]
           ]
          },
          "colorway": [
           "#636efa",
           "#EF553B",
           "#00cc96",
           "#ab63fa",
           "#FFA15A",
           "#19d3f3",
           "#FF6692",
           "#B6E880",
           "#FF97FF",
           "#FECB52"
          ],
          "font": {
           "color": "#2a3f5f"
          },
          "geo": {
           "bgcolor": "white",
           "lakecolor": "white",
           "landcolor": "white",
           "showlakes": true,
           "showland": true,
           "subunitcolor": "#C8D4E3"
          },
          "hoverlabel": {
           "align": "left"
          },
          "hovermode": "closest",
          "mapbox": {
           "style": "light"
          },
          "paper_bgcolor": "white",
          "plot_bgcolor": "white",
          "polar": {
           "angularaxis": {
            "gridcolor": "#EBF0F8",
            "linecolor": "#EBF0F8",
            "ticks": ""
           },
           "bgcolor": "white",
           "radialaxis": {
            "gridcolor": "#EBF0F8",
            "linecolor": "#EBF0F8",
            "ticks": ""
           }
          },
          "scene": {
           "xaxis": {
            "backgroundcolor": "white",
            "gridcolor": "#DFE8F3",
            "gridwidth": 2,
            "linecolor": "#EBF0F8",
            "showbackground": true,
            "ticks": "",
            "zerolinecolor": "#EBF0F8"
           },
           "yaxis": {
            "backgroundcolor": "white",
            "gridcolor": "#DFE8F3",
            "gridwidth": 2,
            "linecolor": "#EBF0F8",
            "showbackground": true,
            "ticks": "",
            "zerolinecolor": "#EBF0F8"
           },
           "zaxis": {
            "backgroundcolor": "white",
            "gridcolor": "#DFE8F3",
            "gridwidth": 2,
            "linecolor": "#EBF0F8",
            "showbackground": true,
            "ticks": "",
            "zerolinecolor": "#EBF0F8"
           }
          },
          "shapedefaults": {
           "line": {
            "color": "#2a3f5f"
           }
          },
          "ternary": {
           "aaxis": {
            "gridcolor": "#DFE8F3",
            "linecolor": "#A2B1C6",
            "ticks": ""
           },
           "baxis": {
            "gridcolor": "#DFE8F3",
            "linecolor": "#A2B1C6",
            "ticks": ""
           },
           "bgcolor": "white",
           "caxis": {
            "gridcolor": "#DFE8F3",
            "linecolor": "#A2B1C6",
            "ticks": ""
           }
          },
          "title": {
           "x": 0.05
          },
          "xaxis": {
           "automargin": true,
           "gridcolor": "#EBF0F8",
           "linecolor": "#EBF0F8",
           "ticks": "",
           "title": {
            "standoff": 15
           },
           "zerolinecolor": "#EBF0F8",
           "zerolinewidth": 2
          },
          "yaxis": {
           "automargin": true,
           "gridcolor": "#EBF0F8",
           "linecolor": "#EBF0F8",
           "ticks": "",
           "title": {
            "standoff": 15
           },
           "zerolinecolor": "#EBF0F8",
           "zerolinewidth": 2
          }
         }
        },
        "title": {
         "font": {
          "color": "#333333",
          "family": "Arial Black",
          "size": 20
         },
         "text": "Tienda 1: Productos más y menos vendidos",
         "x": 0.5
        },
        "xaxis": {
         "gridcolor": "lightgray",
         "showgrid": true,
         "title": {
          "text": "Número de ventas"
         },
         "zeroline": false
        },
        "yaxis": {
         "showgrid": false,
         "title": {
          "text": "Producto"
         }
        }
       }
      }
     },
     "metadata": {},
     "output_type": "display_data"
    }
   ],
   "source": [
    "def diagrama_productos_mas_menos_vendidos(producto_mas, producto_menos, valores_mas, valores_menos,nombre_tienda):\n",
    "    \"\"\"\n",
    "    Devuelve un diagrama de dispersión con los productos más y menos vendidos\n",
    "    a partir de un DataFrame que ya solo contiene las ventas de la tienda.\n",
    "    \"\"\"\n",
    "    fig = go.Figure()\n",
    "\n",
    "# Trazas con símbolos distintos y contraste de colores\n",
    "    fig.add_trace(go.Scatter(\n",
    "        x=valores_mas,\n",
    "        y=producto_mas,\n",
    "        mode=\"markers\",\n",
    "        name=\"Top vendidos\",\n",
    "        marker=dict(\n",
    "            symbol=\"circle\",\n",
    "            color=\"crimson\",\n",
    "            size=14,\n",
    "            line=dict(width=2, color=\"darkred\"),\n",
    "            opacity=0.8\n",
    "        ),\n",
    "        hovertemplate=\"%{y}<br>Ventas: %{x}<extra></extra>\"\n",
    "    ))\n",
    "\n",
    "    fig.add_trace(go.Scatter(\n",
    "        x=valores_menos,\n",
    "        y=producto_menos,\n",
    "        mode=\"markers\",\n",
    "        name=\"Menos vendidos\",\n",
    "        marker=dict(\n",
    "            symbol=\"circle-open\",\n",
    "            color=\"gold\",\n",
    "            size=14,\n",
    "            line=dict(width=2, color=\"darkgoldenrod\"),\n",
    "            opacity=0.8\n",
    "        ),\n",
    "        hovertemplate=\"%{y}<br>Ventas: %{x}<extra></extra>\"\n",
    "    ))\n",
    "\n",
    "    # Layout estilizado\n",
    "    fig.update_layout(\n",
    "        template=\"plotly_white\",        # Base limpia y profesional\n",
    "        title=dict(\n",
    "            text=f\"{nombre_tienda}: Productos más y menos vendidos\",\n",
    "            font=dict(family=\"Arial Black\", size=20, color=\"#333333\"),\n",
    "            x=0.5,                      # Centrar título\n",
    "        ),\n",
    "        font=dict(family=\"Calibri\", size=12, color=\"#555555\"),\n",
    "        plot_bgcolor=\"whitesmoke\",      # Color de área de trazado\n",
    "        paper_bgcolor=\"white\",          # Color del lienzo\n",
    "        legend=dict(\n",
    "            title=\"Categoría\",\n",
    "            orientation=\"h\",\n",
    "            yanchor=\"bottom\",\n",
    "            y=1.02,\n",
    "            xanchor=\"center\",\n",
    "            x=0.5,\n",
    "            bgcolor=\"rgba(255,255,255,0.8)\",\n",
    "            bordercolor=\"#CCCCCC\",\n",
    "            borderwidth=1\n",
    "        ),\n",
    "        margin=dict(l=120, r=40, t=100, b=40)\n",
    "    )\n",
    "\n",
    "    # Ejes con cuadrícula sutil\n",
    "    fig.update_xaxes(\n",
    "        title_text=\"Número de ventas\",\n",
    "        showgrid=True,\n",
    "        gridcolor=\"lightgray\",\n",
    "        zeroline=False\n",
    "    )\n",
    "    fig.update_yaxes(\n",
    "        title_text=\"Producto\",\n",
    "        showgrid=False\n",
    "    )\n",
    "\n",
    "    fig.show()\n",
    "diagrama_productos_mas_menos_vendidos(productos_mas_vendidos_t1['Producto'], productos_menos_vendidos_t1['Producto'], productos_mas_vendidos_t1['Ventas'], productos_menos_vendidos_t1['Ventas'],\"Tienda 1\")\n",
    "\n"
   ]
  },
  {
   "cell_type": "code",
   "execution_count": 36,
   "id": "849c55d4",
   "metadata": {},
   "outputs": [
    {
     "data": {
      "application/vnd.plotly.v1+json": {
       "config": {
        "plotlyServerURL": "https://plot.ly"
       },
       "data": [
        {
         "hovertemplate": "%{y}<br>Ventas: %{x}<extra></extra>",
         "marker": {
          "color": "crimson",
          "line": {
           "color": "darkred",
           "width": 2
          },
          "opacity": 0.8,
          "size": 14,
          "symbol": "circle"
         },
         "mode": "markers",
         "name": "Top vendidos",
         "type": "scatter",
         "x": {
          "bdata": "QT49Ojo5NzY2NA==",
          "dtype": "i1"
         },
         "y": [
          "Iniciando en programación",
          "Microondas",
          "Batería",
          "Guitarra acústica",
          "Pandereta",
          "Secadora de ropa",
          "Iphone 15",
          "Bloques de construcción",
          "Armario",
          "Set de ollas"
         ]
        },
        {
         "hovertemplate": "%{y}<br>Ventas: %{x}<extra></extra>",
         "marker": {
          "color": "gold",
          "line": {
           "color": "darkgoldenrod",
           "width": 2
          },
          "opacity": 0.8,
          "size": 14,
          "symbol": "circle-open"
         },
         "mode": "markers",
         "name": "Menos vendidos",
         "type": "scatter",
         "x": {
          "bdata": "ICIiIyUmJygpKg==",
          "dtype": "i1"
         },
         "y": [
          "Juego de mesa",
          "Mesa de comedor",
          "Impresora",
          "Sillón",
          "Auriculares",
          "Asistente virtual",
          "Cubertería",
          "Smart TV",
          "Celular ABXY",
          "Balón de baloncesto"
         ]
        }
       ],
       "layout": {
        "font": {
         "color": "#555555",
         "family": "Calibri",
         "size": 12
        },
        "legend": {
         "bgcolor": "rgba(255,255,255,0.8)",
         "bordercolor": "#CCCCCC",
         "borderwidth": 1,
         "orientation": "h",
         "title": {
          "text": "Categoría"
         },
         "x": 0.5,
         "xanchor": "center",
         "y": 1.02,
         "yanchor": "bottom"
        },
        "margin": {
         "b": 40,
         "l": 120,
         "r": 40,
         "t": 100
        },
        "paper_bgcolor": "white",
        "plot_bgcolor": "whitesmoke",
        "template": {
         "data": {
          "bar": [
           {
            "error_x": {
             "color": "#2a3f5f"
            },
            "error_y": {
             "color": "#2a3f5f"
            },
            "marker": {
             "line": {
              "color": "white",
              "width": 0.5
             },
             "pattern": {
              "fillmode": "overlay",
              "size": 10,
              "solidity": 0.2
             }
            },
            "type": "bar"
           }
          ],
          "barpolar": [
           {
            "marker": {
             "line": {
              "color": "white",
              "width": 0.5
             },
             "pattern": {
              "fillmode": "overlay",
              "size": 10,
              "solidity": 0.2
             }
            },
            "type": "barpolar"
           }
          ],
          "carpet": [
           {
            "aaxis": {
             "endlinecolor": "#2a3f5f",
             "gridcolor": "#C8D4E3",
             "linecolor": "#C8D4E3",
             "minorgridcolor": "#C8D4E3",
             "startlinecolor": "#2a3f5f"
            },
            "baxis": {
             "endlinecolor": "#2a3f5f",
             "gridcolor": "#C8D4E3",
             "linecolor": "#C8D4E3",
             "minorgridcolor": "#C8D4E3",
             "startlinecolor": "#2a3f5f"
            },
            "type": "carpet"
           }
          ],
          "choropleth": [
           {
            "colorbar": {
             "outlinewidth": 0,
             "ticks": ""
            },
            "type": "choropleth"
           }
          ],
          "contour": [
           {
            "colorbar": {
             "outlinewidth": 0,
             "ticks": ""
            },
            "colorscale": [
             [
              0,
              "#0d0887"
             ],
             [
              0.1111111111111111,
              "#46039f"
             ],
             [
              0.2222222222222222,
              "#7201a8"
             ],
             [
              0.3333333333333333,
              "#9c179e"
             ],
             [
              0.4444444444444444,
              "#bd3786"
             ],
             [
              0.5555555555555556,
              "#d8576b"
             ],
             [
              0.6666666666666666,
              "#ed7953"
             ],
             [
              0.7777777777777778,
              "#fb9f3a"
             ],
             [
              0.8888888888888888,
              "#fdca26"
             ],
             [
              1,
              "#f0f921"
             ]
            ],
            "type": "contour"
           }
          ],
          "contourcarpet": [
           {
            "colorbar": {
             "outlinewidth": 0,
             "ticks": ""
            },
            "type": "contourcarpet"
           }
          ],
          "heatmap": [
           {
            "colorbar": {
             "outlinewidth": 0,
             "ticks": ""
            },
            "colorscale": [
             [
              0,
              "#0d0887"
             ],
             [
              0.1111111111111111,
              "#46039f"
             ],
             [
              0.2222222222222222,
              "#7201a8"
             ],
             [
              0.3333333333333333,
              "#9c179e"
             ],
             [
              0.4444444444444444,
              "#bd3786"
             ],
             [
              0.5555555555555556,
              "#d8576b"
             ],
             [
              0.6666666666666666,
              "#ed7953"
             ],
             [
              0.7777777777777778,
              "#fb9f3a"
             ],
             [
              0.8888888888888888,
              "#fdca26"
             ],
             [
              1,
              "#f0f921"
             ]
            ],
            "type": "heatmap"
           }
          ],
          "histogram": [
           {
            "marker": {
             "pattern": {
              "fillmode": "overlay",
              "size": 10,
              "solidity": 0.2
             }
            },
            "type": "histogram"
           }
          ],
          "histogram2d": [
           {
            "colorbar": {
             "outlinewidth": 0,
             "ticks": ""
            },
            "colorscale": [
             [
              0,
              "#0d0887"
             ],
             [
              0.1111111111111111,
              "#46039f"
             ],
             [
              0.2222222222222222,
              "#7201a8"
             ],
             [
              0.3333333333333333,
              "#9c179e"
             ],
             [
              0.4444444444444444,
              "#bd3786"
             ],
             [
              0.5555555555555556,
              "#d8576b"
             ],
             [
              0.6666666666666666,
              "#ed7953"
             ],
             [
              0.7777777777777778,
              "#fb9f3a"
             ],
             [
              0.8888888888888888,
              "#fdca26"
             ],
             [
              1,
              "#f0f921"
             ]
            ],
            "type": "histogram2d"
           }
          ],
          "histogram2dcontour": [
           {
            "colorbar": {
             "outlinewidth": 0,
             "ticks": ""
            },
            "colorscale": [
             [
              0,
              "#0d0887"
             ],
             [
              0.1111111111111111,
              "#46039f"
             ],
             [
              0.2222222222222222,
              "#7201a8"
             ],
             [
              0.3333333333333333,
              "#9c179e"
             ],
             [
              0.4444444444444444,
              "#bd3786"
             ],
             [
              0.5555555555555556,
              "#d8576b"
             ],
             [
              0.6666666666666666,
              "#ed7953"
             ],
             [
              0.7777777777777778,
              "#fb9f3a"
             ],
             [
              0.8888888888888888,
              "#fdca26"
             ],
             [
              1,
              "#f0f921"
             ]
            ],
            "type": "histogram2dcontour"
           }
          ],
          "mesh3d": [
           {
            "colorbar": {
             "outlinewidth": 0,
             "ticks": ""
            },
            "type": "mesh3d"
           }
          ],
          "parcoords": [
           {
            "line": {
             "colorbar": {
              "outlinewidth": 0,
              "ticks": ""
             }
            },
            "type": "parcoords"
           }
          ],
          "pie": [
           {
            "automargin": true,
            "type": "pie"
           }
          ],
          "scatter": [
           {
            "fillpattern": {
             "fillmode": "overlay",
             "size": 10,
             "solidity": 0.2
            },
            "type": "scatter"
           }
          ],
          "scatter3d": [
           {
            "line": {
             "colorbar": {
              "outlinewidth": 0,
              "ticks": ""
             }
            },
            "marker": {
             "colorbar": {
              "outlinewidth": 0,
              "ticks": ""
             }
            },
            "type": "scatter3d"
           }
          ],
          "scattercarpet": [
           {
            "marker": {
             "colorbar": {
              "outlinewidth": 0,
              "ticks": ""
             }
            },
            "type": "scattercarpet"
           }
          ],
          "scattergeo": [
           {
            "marker": {
             "colorbar": {
              "outlinewidth": 0,
              "ticks": ""
             }
            },
            "type": "scattergeo"
           }
          ],
          "scattergl": [
           {
            "marker": {
             "colorbar": {
              "outlinewidth": 0,
              "ticks": ""
             }
            },
            "type": "scattergl"
           }
          ],
          "scattermap": [
           {
            "marker": {
             "colorbar": {
              "outlinewidth": 0,
              "ticks": ""
             }
            },
            "type": "scattermap"
           }
          ],
          "scattermapbox": [
           {
            "marker": {
             "colorbar": {
              "outlinewidth": 0,
              "ticks": ""
             }
            },
            "type": "scattermapbox"
           }
          ],
          "scatterpolar": [
           {
            "marker": {
             "colorbar": {
              "outlinewidth": 0,
              "ticks": ""
             }
            },
            "type": "scatterpolar"
           }
          ],
          "scatterpolargl": [
           {
            "marker": {
             "colorbar": {
              "outlinewidth": 0,
              "ticks": ""
             }
            },
            "type": "scatterpolargl"
           }
          ],
          "scatterternary": [
           {
            "marker": {
             "colorbar": {
              "outlinewidth": 0,
              "ticks": ""
             }
            },
            "type": "scatterternary"
           }
          ],
          "surface": [
           {
            "colorbar": {
             "outlinewidth": 0,
             "ticks": ""
            },
            "colorscale": [
             [
              0,
              "#0d0887"
             ],
             [
              0.1111111111111111,
              "#46039f"
             ],
             [
              0.2222222222222222,
              "#7201a8"
             ],
             [
              0.3333333333333333,
              "#9c179e"
             ],
             [
              0.4444444444444444,
              "#bd3786"
             ],
             [
              0.5555555555555556,
              "#d8576b"
             ],
             [
              0.6666666666666666,
              "#ed7953"
             ],
             [
              0.7777777777777778,
              "#fb9f3a"
             ],
             [
              0.8888888888888888,
              "#fdca26"
             ],
             [
              1,
              "#f0f921"
             ]
            ],
            "type": "surface"
           }
          ],
          "table": [
           {
            "cells": {
             "fill": {
              "color": "#EBF0F8"
             },
             "line": {
              "color": "white"
             }
            },
            "header": {
             "fill": {
              "color": "#C8D4E3"
             },
             "line": {
              "color": "white"
             }
            },
            "type": "table"
           }
          ]
         },
         "layout": {
          "annotationdefaults": {
           "arrowcolor": "#2a3f5f",
           "arrowhead": 0,
           "arrowwidth": 1
          },
          "autotypenumbers": "strict",
          "coloraxis": {
           "colorbar": {
            "outlinewidth": 0,
            "ticks": ""
           }
          },
          "colorscale": {
           "diverging": [
            [
             0,
             "#8e0152"
            ],
            [
             0.1,
             "#c51b7d"
            ],
            [
             0.2,
             "#de77ae"
            ],
            [
             0.3,
             "#f1b6da"
            ],
            [
             0.4,
             "#fde0ef"
            ],
            [
             0.5,
             "#f7f7f7"
            ],
            [
             0.6,
             "#e6f5d0"
            ],
            [
             0.7,
             "#b8e186"
            ],
            [
             0.8,
             "#7fbc41"
            ],
            [
             0.9,
             "#4d9221"
            ],
            [
             1,
             "#276419"
            ]
           ],
           "sequential": [
            [
             0,
             "#0d0887"
            ],
            [
             0.1111111111111111,
             "#46039f"
            ],
            [
             0.2222222222222222,
             "#7201a8"
            ],
            [
             0.3333333333333333,
             "#9c179e"
            ],
            [
             0.4444444444444444,
             "#bd3786"
            ],
            [
             0.5555555555555556,
             "#d8576b"
            ],
            [
             0.6666666666666666,
             "#ed7953"
            ],
            [
             0.7777777777777778,
             "#fb9f3a"
            ],
            [
             0.8888888888888888,
             "#fdca26"
            ],
            [
             1,
             "#f0f921"
            ]
           ],
           "sequentialminus": [
            [
             0,
             "#0d0887"
            ],
            [
             0.1111111111111111,
             "#46039f"
            ],
            [
             0.2222222222222222,
             "#7201a8"
            ],
            [
             0.3333333333333333,
             "#9c179e"
            ],
            [
             0.4444444444444444,
             "#bd3786"
            ],
            [
             0.5555555555555556,
             "#d8576b"
            ],
            [
             0.6666666666666666,
             "#ed7953"
            ],
            [
             0.7777777777777778,
             "#fb9f3a"
            ],
            [
             0.8888888888888888,
             "#fdca26"
            ],
            [
             1,
             "#f0f921"
            ]
           ]
          },
          "colorway": [
           "#636efa",
           "#EF553B",
           "#00cc96",
           "#ab63fa",
           "#FFA15A",
           "#19d3f3",
           "#FF6692",
           "#B6E880",
           "#FF97FF",
           "#FECB52"
          ],
          "font": {
           "color": "#2a3f5f"
          },
          "geo": {
           "bgcolor": "white",
           "lakecolor": "white",
           "landcolor": "white",
           "showlakes": true,
           "showland": true,
           "subunitcolor": "#C8D4E3"
          },
          "hoverlabel": {
           "align": "left"
          },
          "hovermode": "closest",
          "mapbox": {
           "style": "light"
          },
          "paper_bgcolor": "white",
          "plot_bgcolor": "white",
          "polar": {
           "angularaxis": {
            "gridcolor": "#EBF0F8",
            "linecolor": "#EBF0F8",
            "ticks": ""
           },
           "bgcolor": "white",
           "radialaxis": {
            "gridcolor": "#EBF0F8",
            "linecolor": "#EBF0F8",
            "ticks": ""
           }
          },
          "scene": {
           "xaxis": {
            "backgroundcolor": "white",
            "gridcolor": "#DFE8F3",
            "gridwidth": 2,
            "linecolor": "#EBF0F8",
            "showbackground": true,
            "ticks": "",
            "zerolinecolor": "#EBF0F8"
           },
           "yaxis": {
            "backgroundcolor": "white",
            "gridcolor": "#DFE8F3",
            "gridwidth": 2,
            "linecolor": "#EBF0F8",
            "showbackground": true,
            "ticks": "",
            "zerolinecolor": "#EBF0F8"
           },
           "zaxis": {
            "backgroundcolor": "white",
            "gridcolor": "#DFE8F3",
            "gridwidth": 2,
            "linecolor": "#EBF0F8",
            "showbackground": true,
            "ticks": "",
            "zerolinecolor": "#EBF0F8"
           }
          },
          "shapedefaults": {
           "line": {
            "color": "#2a3f5f"
           }
          },
          "ternary": {
           "aaxis": {
            "gridcolor": "#DFE8F3",
            "linecolor": "#A2B1C6",
            "ticks": ""
           },
           "baxis": {
            "gridcolor": "#DFE8F3",
            "linecolor": "#A2B1C6",
            "ticks": ""
           },
           "bgcolor": "white",
           "caxis": {
            "gridcolor": "#DFE8F3",
            "linecolor": "#A2B1C6",
            "ticks": ""
           }
          },
          "title": {
           "x": 0.05
          },
          "xaxis": {
           "automargin": true,
           "gridcolor": "#EBF0F8",
           "linecolor": "#EBF0F8",
           "ticks": "",
           "title": {
            "standoff": 15
           },
           "zerolinecolor": "#EBF0F8",
           "zerolinewidth": 2
          },
          "yaxis": {
           "automargin": true,
           "gridcolor": "#EBF0F8",
           "linecolor": "#EBF0F8",
           "ticks": "",
           "title": {
            "standoff": 15
           },
           "zerolinecolor": "#EBF0F8",
           "zerolinewidth": 2
          }
         }
        },
        "title": {
         "font": {
          "color": "#333333",
          "family": "Arial Black",
          "size": 20
         },
         "text": "Tienda 2: Productos más y menos vendidos",
         "x": 0.5
        },
        "xaxis": {
         "gridcolor": "lightgray",
         "showgrid": true,
         "title": {
          "text": "Número de ventas"
         },
         "zeroline": false
        },
        "yaxis": {
         "showgrid": false,
         "title": {
          "text": "Producto"
         }
        }
       }
      }
     },
     "metadata": {},
     "output_type": "display_data"
    }
   ],
   "source": [
    "diagrama_productos_mas_menos_vendidos(productos_mas_vendidos_t2['Producto'], productos_menos_vendidos_t2['Producto'], productos_mas_vendidos_t2['Ventas'], productos_menos_vendidos_t2['Ventas'],\"Tienda 2\")"
   ]
  },
  {
   "cell_type": "code",
   "execution_count": 38,
   "id": "2cfd7ab3",
   "metadata": {},
   "outputs": [
    {
     "data": {
      "application/vnd.plotly.v1+json": {
       "config": {
        "plotlyServerURL": "https://plot.ly"
       },
       "data": [
        {
         "hovertemplate": "%{y}<br>Ventas: %{x}<extra></extra>",
         "marker": {
          "color": "crimson",
          "line": {
           "color": "darkred",
           "width": 2
          },
          "opacity": 0.8,
          "size": 14,
          "symbol": "circle"
         },
         "mode": "markers",
         "name": "Top vendidos",
         "type": "scatter",
         "x": {
          "bdata": "OTg4Nzc2NTU1NA==",
          "dtype": "i1"
         },
         "y": [
          "Kit de bancas",
          "Mesa de comedor",
          "Cama king",
          "Set de ollas",
          "Mesa de noche",
          "Smart TV",
          "Estufa",
          "Cuerda para saltar",
          "Modelado predictivo",
          "Carrito de control remoto"
         ]
        },
        {
         "hovertemplate": "%{y}<br>Ventas: %{x}<extra></extra>",
         "marker": {
          "color": "gold",
          "line": {
           "color": "darkgoldenrod",
           "width": 2
          },
          "opacity": 0.8,
          "size": 14,
          "symbol": "circle-open"
         },
         "mode": "markers",
         "name": "Menos vendidos",
         "type": "scatter",
         "x": {
          "bdata": "IyQkJCYmJycnJw==",
          "dtype": "i1"
         },
         "y": [
          "Bloques de construcción",
          "Set de vasos",
          "Mochila",
          "Microondas",
          "Vaso térmico",
          "Guitarra eléctrica",
          "Cubertería",
          "Muñeca bebé",
          "Auriculares con micrófono",
          "Asistente virtual"
         ]
        }
       ],
       "layout": {
        "font": {
         "color": "#555555",
         "family": "Calibri",
         "size": 12
        },
        "legend": {
         "bgcolor": "rgba(255,255,255,0.8)",
         "bordercolor": "#CCCCCC",
         "borderwidth": 1,
         "orientation": "h",
         "title": {
          "text": "Categoría"
         },
         "x": 0.5,
         "xanchor": "center",
         "y": 1.02,
         "yanchor": "bottom"
        },
        "margin": {
         "b": 40,
         "l": 120,
         "r": 40,
         "t": 100
        },
        "paper_bgcolor": "white",
        "plot_bgcolor": "whitesmoke",
        "template": {
         "data": {
          "bar": [
           {
            "error_x": {
             "color": "#2a3f5f"
            },
            "error_y": {
             "color": "#2a3f5f"
            },
            "marker": {
             "line": {
              "color": "white",
              "width": 0.5
             },
             "pattern": {
              "fillmode": "overlay",
              "size": 10,
              "solidity": 0.2
             }
            },
            "type": "bar"
           }
          ],
          "barpolar": [
           {
            "marker": {
             "line": {
              "color": "white",
              "width": 0.5
             },
             "pattern": {
              "fillmode": "overlay",
              "size": 10,
              "solidity": 0.2
             }
            },
            "type": "barpolar"
           }
          ],
          "carpet": [
           {
            "aaxis": {
             "endlinecolor": "#2a3f5f",
             "gridcolor": "#C8D4E3",
             "linecolor": "#C8D4E3",
             "minorgridcolor": "#C8D4E3",
             "startlinecolor": "#2a3f5f"
            },
            "baxis": {
             "endlinecolor": "#2a3f5f",
             "gridcolor": "#C8D4E3",
             "linecolor": "#C8D4E3",
             "minorgridcolor": "#C8D4E3",
             "startlinecolor": "#2a3f5f"
            },
            "type": "carpet"
           }
          ],
          "choropleth": [
           {
            "colorbar": {
             "outlinewidth": 0,
             "ticks": ""
            },
            "type": "choropleth"
           }
          ],
          "contour": [
           {
            "colorbar": {
             "outlinewidth": 0,
             "ticks": ""
            },
            "colorscale": [
             [
              0,
              "#0d0887"
             ],
             [
              0.1111111111111111,
              "#46039f"
             ],
             [
              0.2222222222222222,
              "#7201a8"
             ],
             [
              0.3333333333333333,
              "#9c179e"
             ],
             [
              0.4444444444444444,
              "#bd3786"
             ],
             [
              0.5555555555555556,
              "#d8576b"
             ],
             [
              0.6666666666666666,
              "#ed7953"
             ],
             [
              0.7777777777777778,
              "#fb9f3a"
             ],
             [
              0.8888888888888888,
              "#fdca26"
             ],
             [
              1,
              "#f0f921"
             ]
            ],
            "type": "contour"
           }
          ],
          "contourcarpet": [
           {
            "colorbar": {
             "outlinewidth": 0,
             "ticks": ""
            },
            "type": "contourcarpet"
           }
          ],
          "heatmap": [
           {
            "colorbar": {
             "outlinewidth": 0,
             "ticks": ""
            },
            "colorscale": [
             [
              0,
              "#0d0887"
             ],
             [
              0.1111111111111111,
              "#46039f"
             ],
             [
              0.2222222222222222,
              "#7201a8"
             ],
             [
              0.3333333333333333,
              "#9c179e"
             ],
             [
              0.4444444444444444,
              "#bd3786"
             ],
             [
              0.5555555555555556,
              "#d8576b"
             ],
             [
              0.6666666666666666,
              "#ed7953"
             ],
             [
              0.7777777777777778,
              "#fb9f3a"
             ],
             [
              0.8888888888888888,
              "#fdca26"
             ],
             [
              1,
              "#f0f921"
             ]
            ],
            "type": "heatmap"
           }
          ],
          "histogram": [
           {
            "marker": {
             "pattern": {
              "fillmode": "overlay",
              "size": 10,
              "solidity": 0.2
             }
            },
            "type": "histogram"
           }
          ],
          "histogram2d": [
           {
            "colorbar": {
             "outlinewidth": 0,
             "ticks": ""
            },
            "colorscale": [
             [
              0,
              "#0d0887"
             ],
             [
              0.1111111111111111,
              "#46039f"
             ],
             [
              0.2222222222222222,
              "#7201a8"
             ],
             [
              0.3333333333333333,
              "#9c179e"
             ],
             [
              0.4444444444444444,
              "#bd3786"
             ],
             [
              0.5555555555555556,
              "#d8576b"
             ],
             [
              0.6666666666666666,
              "#ed7953"
             ],
             [
              0.7777777777777778,
              "#fb9f3a"
             ],
             [
              0.8888888888888888,
              "#fdca26"
             ],
             [
              1,
              "#f0f921"
             ]
            ],
            "type": "histogram2d"
           }
          ],
          "histogram2dcontour": [
           {
            "colorbar": {
             "outlinewidth": 0,
             "ticks": ""
            },
            "colorscale": [
             [
              0,
              "#0d0887"
             ],
             [
              0.1111111111111111,
              "#46039f"
             ],
             [
              0.2222222222222222,
              "#7201a8"
             ],
             [
              0.3333333333333333,
              "#9c179e"
             ],
             [
              0.4444444444444444,
              "#bd3786"
             ],
             [
              0.5555555555555556,
              "#d8576b"
             ],
             [
              0.6666666666666666,
              "#ed7953"
             ],
             [
              0.7777777777777778,
              "#fb9f3a"
             ],
             [
              0.8888888888888888,
              "#fdca26"
             ],
             [
              1,
              "#f0f921"
             ]
            ],
            "type": "histogram2dcontour"
           }
          ],
          "mesh3d": [
           {
            "colorbar": {
             "outlinewidth": 0,
             "ticks": ""
            },
            "type": "mesh3d"
           }
          ],
          "parcoords": [
           {
            "line": {
             "colorbar": {
              "outlinewidth": 0,
              "ticks": ""
             }
            },
            "type": "parcoords"
           }
          ],
          "pie": [
           {
            "automargin": true,
            "type": "pie"
           }
          ],
          "scatter": [
           {
            "fillpattern": {
             "fillmode": "overlay",
             "size": 10,
             "solidity": 0.2
            },
            "type": "scatter"
           }
          ],
          "scatter3d": [
           {
            "line": {
             "colorbar": {
              "outlinewidth": 0,
              "ticks": ""
             }
            },
            "marker": {
             "colorbar": {
              "outlinewidth": 0,
              "ticks": ""
             }
            },
            "type": "scatter3d"
           }
          ],
          "scattercarpet": [
           {
            "marker": {
             "colorbar": {
              "outlinewidth": 0,
              "ticks": ""
             }
            },
            "type": "scattercarpet"
           }
          ],
          "scattergeo": [
           {
            "marker": {
             "colorbar": {
              "outlinewidth": 0,
              "ticks": ""
             }
            },
            "type": "scattergeo"
           }
          ],
          "scattergl": [
           {
            "marker": {
             "colorbar": {
              "outlinewidth": 0,
              "ticks": ""
             }
            },
            "type": "scattergl"
           }
          ],
          "scattermap": [
           {
            "marker": {
             "colorbar": {
              "outlinewidth": 0,
              "ticks": ""
             }
            },
            "type": "scattermap"
           }
          ],
          "scattermapbox": [
           {
            "marker": {
             "colorbar": {
              "outlinewidth": 0,
              "ticks": ""
             }
            },
            "type": "scattermapbox"
           }
          ],
          "scatterpolar": [
           {
            "marker": {
             "colorbar": {
              "outlinewidth": 0,
              "ticks": ""
             }
            },
            "type": "scatterpolar"
           }
          ],
          "scatterpolargl": [
           {
            "marker": {
             "colorbar": {
              "outlinewidth": 0,
              "ticks": ""
             }
            },
            "type": "scatterpolargl"
           }
          ],
          "scatterternary": [
           {
            "marker": {
             "colorbar": {
              "outlinewidth": 0,
              "ticks": ""
             }
            },
            "type": "scatterternary"
           }
          ],
          "surface": [
           {
            "colorbar": {
             "outlinewidth": 0,
             "ticks": ""
            },
            "colorscale": [
             [
              0,
              "#0d0887"
             ],
             [
              0.1111111111111111,
              "#46039f"
             ],
             [
              0.2222222222222222,
              "#7201a8"
             ],
             [
              0.3333333333333333,
              "#9c179e"
             ],
             [
              0.4444444444444444,
              "#bd3786"
             ],
             [
              0.5555555555555556,
              "#d8576b"
             ],
             [
              0.6666666666666666,
              "#ed7953"
             ],
             [
              0.7777777777777778,
              "#fb9f3a"
             ],
             [
              0.8888888888888888,
              "#fdca26"
             ],
             [
              1,
              "#f0f921"
             ]
            ],
            "type": "surface"
           }
          ],
          "table": [
           {
            "cells": {
             "fill": {
              "color": "#EBF0F8"
             },
             "line": {
              "color": "white"
             }
            },
            "header": {
             "fill": {
              "color": "#C8D4E3"
             },
             "line": {
              "color": "white"
             }
            },
            "type": "table"
           }
          ]
         },
         "layout": {
          "annotationdefaults": {
           "arrowcolor": "#2a3f5f",
           "arrowhead": 0,
           "arrowwidth": 1
          },
          "autotypenumbers": "strict",
          "coloraxis": {
           "colorbar": {
            "outlinewidth": 0,
            "ticks": ""
           }
          },
          "colorscale": {
           "diverging": [
            [
             0,
             "#8e0152"
            ],
            [
             0.1,
             "#c51b7d"
            ],
            [
             0.2,
             "#de77ae"
            ],
            [
             0.3,
             "#f1b6da"
            ],
            [
             0.4,
             "#fde0ef"
            ],
            [
             0.5,
             "#f7f7f7"
            ],
            [
             0.6,
             "#e6f5d0"
            ],
            [
             0.7,
             "#b8e186"
            ],
            [
             0.8,
             "#7fbc41"
            ],
            [
             0.9,
             "#4d9221"
            ],
            [
             1,
             "#276419"
            ]
           ],
           "sequential": [
            [
             0,
             "#0d0887"
            ],
            [
             0.1111111111111111,
             "#46039f"
            ],
            [
             0.2222222222222222,
             "#7201a8"
            ],
            [
             0.3333333333333333,
             "#9c179e"
            ],
            [
             0.4444444444444444,
             "#bd3786"
            ],
            [
             0.5555555555555556,
             "#d8576b"
            ],
            [
             0.6666666666666666,
             "#ed7953"
            ],
            [
             0.7777777777777778,
             "#fb9f3a"
            ],
            [
             0.8888888888888888,
             "#fdca26"
            ],
            [
             1,
             "#f0f921"
            ]
           ],
           "sequentialminus": [
            [
             0,
             "#0d0887"
            ],
            [
             0.1111111111111111,
             "#46039f"
            ],
            [
             0.2222222222222222,
             "#7201a8"
            ],
            [
             0.3333333333333333,
             "#9c179e"
            ],
            [
             0.4444444444444444,
             "#bd3786"
            ],
            [
             0.5555555555555556,
             "#d8576b"
            ],
            [
             0.6666666666666666,
             "#ed7953"
            ],
            [
             0.7777777777777778,
             "#fb9f3a"
            ],
            [
             0.8888888888888888,
             "#fdca26"
            ],
            [
             1,
             "#f0f921"
            ]
           ]
          },
          "colorway": [
           "#636efa",
           "#EF553B",
           "#00cc96",
           "#ab63fa",
           "#FFA15A",
           "#19d3f3",
           "#FF6692",
           "#B6E880",
           "#FF97FF",
           "#FECB52"
          ],
          "font": {
           "color": "#2a3f5f"
          },
          "geo": {
           "bgcolor": "white",
           "lakecolor": "white",
           "landcolor": "white",
           "showlakes": true,
           "showland": true,
           "subunitcolor": "#C8D4E3"
          },
          "hoverlabel": {
           "align": "left"
          },
          "hovermode": "closest",
          "mapbox": {
           "style": "light"
          },
          "paper_bgcolor": "white",
          "plot_bgcolor": "white",
          "polar": {
           "angularaxis": {
            "gridcolor": "#EBF0F8",
            "linecolor": "#EBF0F8",
            "ticks": ""
           },
           "bgcolor": "white",
           "radialaxis": {
            "gridcolor": "#EBF0F8",
            "linecolor": "#EBF0F8",
            "ticks": ""
           }
          },
          "scene": {
           "xaxis": {
            "backgroundcolor": "white",
            "gridcolor": "#DFE8F3",
            "gridwidth": 2,
            "linecolor": "#EBF0F8",
            "showbackground": true,
            "ticks": "",
            "zerolinecolor": "#EBF0F8"
           },
           "yaxis": {
            "backgroundcolor": "white",
            "gridcolor": "#DFE8F3",
            "gridwidth": 2,
            "linecolor": "#EBF0F8",
            "showbackground": true,
            "ticks": "",
            "zerolinecolor": "#EBF0F8"
           },
           "zaxis": {
            "backgroundcolor": "white",
            "gridcolor": "#DFE8F3",
            "gridwidth": 2,
            "linecolor": "#EBF0F8",
            "showbackground": true,
            "ticks": "",
            "zerolinecolor": "#EBF0F8"
           }
          },
          "shapedefaults": {
           "line": {
            "color": "#2a3f5f"
           }
          },
          "ternary": {
           "aaxis": {
            "gridcolor": "#DFE8F3",
            "linecolor": "#A2B1C6",
            "ticks": ""
           },
           "baxis": {
            "gridcolor": "#DFE8F3",
            "linecolor": "#A2B1C6",
            "ticks": ""
           },
           "bgcolor": "white",
           "caxis": {
            "gridcolor": "#DFE8F3",
            "linecolor": "#A2B1C6",
            "ticks": ""
           }
          },
          "title": {
           "x": 0.05
          },
          "xaxis": {
           "automargin": true,
           "gridcolor": "#EBF0F8",
           "linecolor": "#EBF0F8",
           "ticks": "",
           "title": {
            "standoff": 15
           },
           "zerolinecolor": "#EBF0F8",
           "zerolinewidth": 2
          },
          "yaxis": {
           "automargin": true,
           "gridcolor": "#EBF0F8",
           "linecolor": "#EBF0F8",
           "ticks": "",
           "title": {
            "standoff": 15
           },
           "zerolinecolor": "#EBF0F8",
           "zerolinewidth": 2
          }
         }
        },
        "title": {
         "font": {
          "color": "#333333",
          "family": "Arial Black",
          "size": 20
         },
         "text": "Tienda 3: Productos más y menos vendidos",
         "x": 0.5
        },
        "xaxis": {
         "gridcolor": "lightgray",
         "showgrid": true,
         "title": {
          "text": "Número de ventas"
         },
         "zeroline": false
        },
        "yaxis": {
         "showgrid": false,
         "title": {
          "text": "Producto"
         }
        }
       }
      }
     },
     "metadata": {},
     "output_type": "display_data"
    }
   ],
   "source": [
    "diagrama_productos_mas_menos_vendidos(productos_mas_vendidos_t3['Producto'], productos_menos_vendidos_t3['Producto'], productos_mas_vendidos_t3['Ventas'], productos_menos_vendidos_t3['Ventas'],\"Tienda 3\")"
   ]
  },
  {
   "cell_type": "code",
   "execution_count": 42,
   "id": "26aa2f85",
   "metadata": {},
   "outputs": [
    {
     "data": {
      "application/vnd.plotly.v1+json": {
       "config": {
        "plotlyServerURL": "https://plot.ly"
       },
       "data": [
        {
         "hovertemplate": "%{y}<br>Ventas: %{x}<extra></extra>",
         "marker": {
          "color": "crimson",
          "line": {
           "color": "darkred",
           "width": 2
          },
          "opacity": 0.8,
          "size": 14,
          "symbol": "circle"
         },
         "mode": "markers",
         "name": "Top vendidos",
         "type": "scatter",
         "x": {
          "bdata": "Pjs4ODc3NzY2NA==",
          "dtype": "i1"
         },
         "y": [
          "Cama box",
          "Cubertería",
          "Dashboards con Power BI",
          "Cama king",
          "Carrito de control remoto",
          "Mesa de comedor",
          "Mesa de noche",
          "Smart TV",
          "Bloques de construcción",
          "Pandereta"
         ]
        },
        {
         "hovertemplate": "%{y}<br>Ventas: %{x}<extra></extra>",
         "marker": {
          "color": "gold",
          "line": {
           "color": "darkgoldenrod",
           "width": 2
          },
          "opacity": 0.8,
          "size": 14,
          "symbol": "circle-open"
         },
         "mode": "markers",
         "name": "Menos vendidos",
         "type": "scatter",
         "x": {
          "bdata": "ISIlJiYmJycnKA==",
          "dtype": "i1"
         },
         "y": [
          "Guitarra eléctrica",
          "Armario",
          "Guitarra acústica",
          "Lavadora de ropa",
          "Refrigerador",
          "Ciencia de datos con Python",
          "Celular ABXY",
          "Ajedrez de madera",
          "Smartwatch",
          "TV LED UHD 4K"
         ]
        }
       ],
       "layout": {
        "font": {
         "color": "#555555",
         "family": "Calibri",
         "size": 12
        },
        "legend": {
         "bgcolor": "rgba(255,255,255,0.8)",
         "bordercolor": "#CCCCCC",
         "borderwidth": 1,
         "orientation": "h",
         "title": {
          "text": "Categoría"
         },
         "x": 0.5,
         "xanchor": "center",
         "y": 1.02,
         "yanchor": "bottom"
        },
        "margin": {
         "b": 40,
         "l": 120,
         "r": 40,
         "t": 100
        },
        "paper_bgcolor": "white",
        "plot_bgcolor": "whitesmoke",
        "template": {
         "data": {
          "bar": [
           {
            "error_x": {
             "color": "#2a3f5f"
            },
            "error_y": {
             "color": "#2a3f5f"
            },
            "marker": {
             "line": {
              "color": "white",
              "width": 0.5
             },
             "pattern": {
              "fillmode": "overlay",
              "size": 10,
              "solidity": 0.2
             }
            },
            "type": "bar"
           }
          ],
          "barpolar": [
           {
            "marker": {
             "line": {
              "color": "white",
              "width": 0.5
             },
             "pattern": {
              "fillmode": "overlay",
              "size": 10,
              "solidity": 0.2
             }
            },
            "type": "barpolar"
           }
          ],
          "carpet": [
           {
            "aaxis": {
             "endlinecolor": "#2a3f5f",
             "gridcolor": "#C8D4E3",
             "linecolor": "#C8D4E3",
             "minorgridcolor": "#C8D4E3",
             "startlinecolor": "#2a3f5f"
            },
            "baxis": {
             "endlinecolor": "#2a3f5f",
             "gridcolor": "#C8D4E3",
             "linecolor": "#C8D4E3",
             "minorgridcolor": "#C8D4E3",
             "startlinecolor": "#2a3f5f"
            },
            "type": "carpet"
           }
          ],
          "choropleth": [
           {
            "colorbar": {
             "outlinewidth": 0,
             "ticks": ""
            },
            "type": "choropleth"
           }
          ],
          "contour": [
           {
            "colorbar": {
             "outlinewidth": 0,
             "ticks": ""
            },
            "colorscale": [
             [
              0,
              "#0d0887"
             ],
             [
              0.1111111111111111,
              "#46039f"
             ],
             [
              0.2222222222222222,
              "#7201a8"
             ],
             [
              0.3333333333333333,
              "#9c179e"
             ],
             [
              0.4444444444444444,
              "#bd3786"
             ],
             [
              0.5555555555555556,
              "#d8576b"
             ],
             [
              0.6666666666666666,
              "#ed7953"
             ],
             [
              0.7777777777777778,
              "#fb9f3a"
             ],
             [
              0.8888888888888888,
              "#fdca26"
             ],
             [
              1,
              "#f0f921"
             ]
            ],
            "type": "contour"
           }
          ],
          "contourcarpet": [
           {
            "colorbar": {
             "outlinewidth": 0,
             "ticks": ""
            },
            "type": "contourcarpet"
           }
          ],
          "heatmap": [
           {
            "colorbar": {
             "outlinewidth": 0,
             "ticks": ""
            },
            "colorscale": [
             [
              0,
              "#0d0887"
             ],
             [
              0.1111111111111111,
              "#46039f"
             ],
             [
              0.2222222222222222,
              "#7201a8"
             ],
             [
              0.3333333333333333,
              "#9c179e"
             ],
             [
              0.4444444444444444,
              "#bd3786"
             ],
             [
              0.5555555555555556,
              "#d8576b"
             ],
             [
              0.6666666666666666,
              "#ed7953"
             ],
             [
              0.7777777777777778,
              "#fb9f3a"
             ],
             [
              0.8888888888888888,
              "#fdca26"
             ],
             [
              1,
              "#f0f921"
             ]
            ],
            "type": "heatmap"
           }
          ],
          "histogram": [
           {
            "marker": {
             "pattern": {
              "fillmode": "overlay",
              "size": 10,
              "solidity": 0.2
             }
            },
            "type": "histogram"
           }
          ],
          "histogram2d": [
           {
            "colorbar": {
             "outlinewidth": 0,
             "ticks": ""
            },
            "colorscale": [
             [
              0,
              "#0d0887"
             ],
             [
              0.1111111111111111,
              "#46039f"
             ],
             [
              0.2222222222222222,
              "#7201a8"
             ],
             [
              0.3333333333333333,
              "#9c179e"
             ],
             [
              0.4444444444444444,
              "#bd3786"
             ],
             [
              0.5555555555555556,
              "#d8576b"
             ],
             [
              0.6666666666666666,
              "#ed7953"
             ],
             [
              0.7777777777777778,
              "#fb9f3a"
             ],
             [
              0.8888888888888888,
              "#fdca26"
             ],
             [
              1,
              "#f0f921"
             ]
            ],
            "type": "histogram2d"
           }
          ],
          "histogram2dcontour": [
           {
            "colorbar": {
             "outlinewidth": 0,
             "ticks": ""
            },
            "colorscale": [
             [
              0,
              "#0d0887"
             ],
             [
              0.1111111111111111,
              "#46039f"
             ],
             [
              0.2222222222222222,
              "#7201a8"
             ],
             [
              0.3333333333333333,
              "#9c179e"
             ],
             [
              0.4444444444444444,
              "#bd3786"
             ],
             [
              0.5555555555555556,
              "#d8576b"
             ],
             [
              0.6666666666666666,
              "#ed7953"
             ],
             [
              0.7777777777777778,
              "#fb9f3a"
             ],
             [
              0.8888888888888888,
              "#fdca26"
             ],
             [
              1,
              "#f0f921"
             ]
            ],
            "type": "histogram2dcontour"
           }
          ],
          "mesh3d": [
           {
            "colorbar": {
             "outlinewidth": 0,
             "ticks": ""
            },
            "type": "mesh3d"
           }
          ],
          "parcoords": [
           {
            "line": {
             "colorbar": {
              "outlinewidth": 0,
              "ticks": ""
             }
            },
            "type": "parcoords"
           }
          ],
          "pie": [
           {
            "automargin": true,
            "type": "pie"
           }
          ],
          "scatter": [
           {
            "fillpattern": {
             "fillmode": "overlay",
             "size": 10,
             "solidity": 0.2
            },
            "type": "scatter"
           }
          ],
          "scatter3d": [
           {
            "line": {
             "colorbar": {
              "outlinewidth": 0,
              "ticks": ""
             }
            },
            "marker": {
             "colorbar": {
              "outlinewidth": 0,
              "ticks": ""
             }
            },
            "type": "scatter3d"
           }
          ],
          "scattercarpet": [
           {
            "marker": {
             "colorbar": {
              "outlinewidth": 0,
              "ticks": ""
             }
            },
            "type": "scattercarpet"
           }
          ],
          "scattergeo": [
           {
            "marker": {
             "colorbar": {
              "outlinewidth": 0,
              "ticks": ""
             }
            },
            "type": "scattergeo"
           }
          ],
          "scattergl": [
           {
            "marker": {
             "colorbar": {
              "outlinewidth": 0,
              "ticks": ""
             }
            },
            "type": "scattergl"
           }
          ],
          "scattermap": [
           {
            "marker": {
             "colorbar": {
              "outlinewidth": 0,
              "ticks": ""
             }
            },
            "type": "scattermap"
           }
          ],
          "scattermapbox": [
           {
            "marker": {
             "colorbar": {
              "outlinewidth": 0,
              "ticks": ""
             }
            },
            "type": "scattermapbox"
           }
          ],
          "scatterpolar": [
           {
            "marker": {
             "colorbar": {
              "outlinewidth": 0,
              "ticks": ""
             }
            },
            "type": "scatterpolar"
           }
          ],
          "scatterpolargl": [
           {
            "marker": {
             "colorbar": {
              "outlinewidth": 0,
              "ticks": ""
             }
            },
            "type": "scatterpolargl"
           }
          ],
          "scatterternary": [
           {
            "marker": {
             "colorbar": {
              "outlinewidth": 0,
              "ticks": ""
             }
            },
            "type": "scatterternary"
           }
          ],
          "surface": [
           {
            "colorbar": {
             "outlinewidth": 0,
             "ticks": ""
            },
            "colorscale": [
             [
              0,
              "#0d0887"
             ],
             [
              0.1111111111111111,
              "#46039f"
             ],
             [
              0.2222222222222222,
              "#7201a8"
             ],
             [
              0.3333333333333333,
              "#9c179e"
             ],
             [
              0.4444444444444444,
              "#bd3786"
             ],
             [
              0.5555555555555556,
              "#d8576b"
             ],
             [
              0.6666666666666666,
              "#ed7953"
             ],
             [
              0.7777777777777778,
              "#fb9f3a"
             ],
             [
              0.8888888888888888,
              "#fdca26"
             ],
             [
              1,
              "#f0f921"
             ]
            ],
            "type": "surface"
           }
          ],
          "table": [
           {
            "cells": {
             "fill": {
              "color": "#EBF0F8"
             },
             "line": {
              "color": "white"
             }
            },
            "header": {
             "fill": {
              "color": "#C8D4E3"
             },
             "line": {
              "color": "white"
             }
            },
            "type": "table"
           }
          ]
         },
         "layout": {
          "annotationdefaults": {
           "arrowcolor": "#2a3f5f",
           "arrowhead": 0,
           "arrowwidth": 1
          },
          "autotypenumbers": "strict",
          "coloraxis": {
           "colorbar": {
            "outlinewidth": 0,
            "ticks": ""
           }
          },
          "colorscale": {
           "diverging": [
            [
             0,
             "#8e0152"
            ],
            [
             0.1,
             "#c51b7d"
            ],
            [
             0.2,
             "#de77ae"
            ],
            [
             0.3,
             "#f1b6da"
            ],
            [
             0.4,
             "#fde0ef"
            ],
            [
             0.5,
             "#f7f7f7"
            ],
            [
             0.6,
             "#e6f5d0"
            ],
            [
             0.7,
             "#b8e186"
            ],
            [
             0.8,
             "#7fbc41"
            ],
            [
             0.9,
             "#4d9221"
            ],
            [
             1,
             "#276419"
            ]
           ],
           "sequential": [
            [
             0,
             "#0d0887"
            ],
            [
             0.1111111111111111,
             "#46039f"
            ],
            [
             0.2222222222222222,
             "#7201a8"
            ],
            [
             0.3333333333333333,
             "#9c179e"
            ],
            [
             0.4444444444444444,
             "#bd3786"
            ],
            [
             0.5555555555555556,
             "#d8576b"
            ],
            [
             0.6666666666666666,
             "#ed7953"
            ],
            [
             0.7777777777777778,
             "#fb9f3a"
            ],
            [
             0.8888888888888888,
             "#fdca26"
            ],
            [
             1,
             "#f0f921"
            ]
           ],
           "sequentialminus": [
            [
             0,
             "#0d0887"
            ],
            [
             0.1111111111111111,
             "#46039f"
            ],
            [
             0.2222222222222222,
             "#7201a8"
            ],
            [
             0.3333333333333333,
             "#9c179e"
            ],
            [
             0.4444444444444444,
             "#bd3786"
            ],
            [
             0.5555555555555556,
             "#d8576b"
            ],
            [
             0.6666666666666666,
             "#ed7953"
            ],
            [
             0.7777777777777778,
             "#fb9f3a"
            ],
            [
             0.8888888888888888,
             "#fdca26"
            ],
            [
             1,
             "#f0f921"
            ]
           ]
          },
          "colorway": [
           "#636efa",
           "#EF553B",
           "#00cc96",
           "#ab63fa",
           "#FFA15A",
           "#19d3f3",
           "#FF6692",
           "#B6E880",
           "#FF97FF",
           "#FECB52"
          ],
          "font": {
           "color": "#2a3f5f"
          },
          "geo": {
           "bgcolor": "white",
           "lakecolor": "white",
           "landcolor": "white",
           "showlakes": true,
           "showland": true,
           "subunitcolor": "#C8D4E3"
          },
          "hoverlabel": {
           "align": "left"
          },
          "hovermode": "closest",
          "mapbox": {
           "style": "light"
          },
          "paper_bgcolor": "white",
          "plot_bgcolor": "white",
          "polar": {
           "angularaxis": {
            "gridcolor": "#EBF0F8",
            "linecolor": "#EBF0F8",
            "ticks": ""
           },
           "bgcolor": "white",
           "radialaxis": {
            "gridcolor": "#EBF0F8",
            "linecolor": "#EBF0F8",
            "ticks": ""
           }
          },
          "scene": {
           "xaxis": {
            "backgroundcolor": "white",
            "gridcolor": "#DFE8F3",
            "gridwidth": 2,
            "linecolor": "#EBF0F8",
            "showbackground": true,
            "ticks": "",
            "zerolinecolor": "#EBF0F8"
           },
           "yaxis": {
            "backgroundcolor": "white",
            "gridcolor": "#DFE8F3",
            "gridwidth": 2,
            "linecolor": "#EBF0F8",
            "showbackground": true,
            "ticks": "",
            "zerolinecolor": "#EBF0F8"
           },
           "zaxis": {
            "backgroundcolor": "white",
            "gridcolor": "#DFE8F3",
            "gridwidth": 2,
            "linecolor": "#EBF0F8",
            "showbackground": true,
            "ticks": "",
            "zerolinecolor": "#EBF0F8"
           }
          },
          "shapedefaults": {
           "line": {
            "color": "#2a3f5f"
           }
          },
          "ternary": {
           "aaxis": {
            "gridcolor": "#DFE8F3",
            "linecolor": "#A2B1C6",
            "ticks": ""
           },
           "baxis": {
            "gridcolor": "#DFE8F3",
            "linecolor": "#A2B1C6",
            "ticks": ""
           },
           "bgcolor": "white",
           "caxis": {
            "gridcolor": "#DFE8F3",
            "linecolor": "#A2B1C6",
            "ticks": ""
           }
          },
          "title": {
           "x": 0.05
          },
          "xaxis": {
           "automargin": true,
           "gridcolor": "#EBF0F8",
           "linecolor": "#EBF0F8",
           "ticks": "",
           "title": {
            "standoff": 15
           },
           "zerolinecolor": "#EBF0F8",
           "zerolinewidth": 2
          },
          "yaxis": {
           "automargin": true,
           "gridcolor": "#EBF0F8",
           "linecolor": "#EBF0F8",
           "ticks": "",
           "title": {
            "standoff": 15
           },
           "zerolinecolor": "#EBF0F8",
           "zerolinewidth": 2
          }
         }
        },
        "title": {
         "font": {
          "color": "#333333",
          "family": "Arial Black",
          "size": 20
         },
         "text": "Tienda 4: Productos más y menos vendidos",
         "x": 0.5
        },
        "xaxis": {
         "gridcolor": "lightgray",
         "showgrid": true,
         "title": {
          "text": "Número de ventas"
         },
         "zeroline": false
        },
        "yaxis": {
         "showgrid": false,
         "title": {
          "text": "Producto"
         }
        }
       }
      }
     },
     "metadata": {},
     "output_type": "display_data"
    }
   ],
   "source": [
    "diagrama_productos_mas_menos_vendidos(productos_mas_vendidos_t4['Producto'], productos_menos_vendidos_t4['Producto'], productos_mas_vendidos_t4['Ventas'], productos_menos_vendidos_t4['Ventas'],\"Tienda 4\")"
   ]
  }
 ],
 "metadata": {
  "kernelspec": {
   "display_name": "Python 3",
   "language": "python",
   "name": "python3"
  },
  "language_info": {
   "codemirror_mode": {
    "name": "ipython",
    "version": 3
   },
   "file_extension": ".py",
   "mimetype": "text/x-python",
   "name": "python",
   "nbconvert_exporter": "python",
   "pygments_lexer": "ipython3",
   "version": "3.13.3"
  }
 },
 "nbformat": 4,
 "nbformat_minor": 5
}
